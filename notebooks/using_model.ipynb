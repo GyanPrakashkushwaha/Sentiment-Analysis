{
 "cells": [
  {
   "cell_type": "code",
   "execution_count": 1,
   "metadata": {},
   "outputs": [],
   "source": [
    "from keras.models import load_model"
   ]
  },
  {
   "cell_type": "code",
   "execution_count": 2,
   "metadata": {},
   "outputs": [],
   "source": [
    "import pandas as pd\n",
    "import numpy as np"
   ]
  },
  {
   "cell_type": "code",
   "execution_count": 3,
   "metadata": {},
   "outputs": [
    {
     "name": "stdout",
     "output_type": "stream",
     "text": [
      "d:\\vscode_machineLearning\\internship\\sentiment-Analysis-fellowship.ai\\notebooks\n"
     ]
    }
   ],
   "source": [
    "import os\n",
    "print(os.getcwd())\n",
    "os.chdir(r'd:\\\\vscode_machineLearning\\\\internship\\\\sentiment-Analysis-fellowship.ai')"
   ]
  },
  {
   "cell_type": "code",
   "execution_count": 4,
   "metadata": {},
   "outputs": [],
   "source": [
    "model = load_model(r'sentimentAnalysisModel')"
   ]
  },
  {
   "cell_type": "code",
   "execution_count": 5,
   "metadata": {},
   "outputs": [
    {
     "name": "stdout",
     "output_type": "stream",
     "text": [
      "Model: \"LSTM_model\"\n",
      "_________________________________________________________________\n",
      " Layer (type)                Output Shape              Param #   \n",
      "=================================================================\n",
      " input_layer (Embedding)     (None, 150, 100)          5694200   \n",
      "                                                                 \n",
      " LSTM_1 (Bidirectional)      (None, 150, 128)          84480     \n",
      "                                                                 \n",
      " dropout_2 (Dropout)         (None, 150, 128)          0         \n",
      "                                                                 \n",
      " batch_normalization_1 (Bat  (None, 150, 128)          512       \n",
      " chNormalization)                                                \n",
      "                                                                 \n",
      " dropout_3 (Dropout)         (None, 150, 128)          0         \n",
      "                                                                 \n",
      " LSTM_2 (Bidirectional)      (None, 64)                41216     \n",
      "                                                                 \n",
      " fully_connected_layer (Den  (None, 128)               8320      \n",
      " se)                                                             \n",
      "                                                                 \n",
      " output_layer (Dense)        (None, 1)                 129       \n",
      "                                                                 \n",
      "=================================================================\n",
      "Total params: 5828857 (22.24 MB)\n",
      "Trainable params: 5828601 (22.23 MB)\n",
      "Non-trainable params: 256 (1.00 KB)\n",
      "_________________________________________________________________\n"
     ]
    }
   ],
   "source": [
    "model.summary()"
   ]
  },
  {
   "cell_type": "markdown",
   "metadata": {},
   "source": [
    "## testing"
   ]
  },
  {
   "cell_type": "code",
   "execution_count": 6,
   "metadata": {},
   "outputs": [],
   "source": [
    "padded_docs = pd.read_csv(r'sentiment-analysis-dataset\\padded_docs.csv')\n",
    "padded_docs = padded_docs.drop(columns='Unnamed: 0')"
   ]
  },
  {
   "cell_type": "code",
   "execution_count": 7,
   "metadata": {},
   "outputs": [],
   "source": [
    "padded_docs = padded_docs.iloc[:,:150]"
   ]
  },
  {
   "cell_type": "code",
   "execution_count": 8,
   "metadata": {},
   "outputs": [],
   "source": [
    "padded_docs=np.array(padded_docs)\n",
    "padded_docs = np.array(padded_docs)"
   ]
  },
  {
   "cell_type": "code",
   "execution_count": 9,
   "metadata": {},
   "outputs": [
    {
     "data": {
      "text/plain": [
       "numpy.ndarray"
      ]
     },
     "execution_count": 9,
     "metadata": {},
     "output_type": "execute_result"
    }
   ],
   "source": [
    "type(padded_docs[[0]])"
   ]
  },
  {
   "cell_type": "code",
   "execution_count": 10,
   "metadata": {},
   "outputs": [
    {
     "data": {
      "text/plain": [
       "array([[    3,   237,   317,     8,  3680,   216,   440,   131,    24,\n",
       "           32,  2294,  3680,   996,  9208,    19,    88,   134,   332,\n",
       "         1209,    21,  4362,   442,    21,   452,  1695,   937,   338,\n",
       "          263,    56,   130,  3680,  5646,   232, 10499,  4639,  1581,\n",
       "          534,   905,  1097, 13548,  2967,  1882,   802,  1939,  1845,\n",
       "          744,   251, 12671,   223,  6462,   517,   312,  1824,   300,\n",
       "         4908,   346,  5480,  7134,    38,   126,    10,    41,   157,\n",
       "          756,    21,   490,   122,   165,    21,   582,    80,   324,\n",
       "          972,  2025,   582,   582,   845,    24,   216,    51,    99,\n",
       "         2294,  1310,    41,  1207,     8,   373,  1049,    83,  6109,\n",
       "          223,   568,  1103,  4950,  1721,  2152,  4077,    91,   414,\n",
       "            6,   188,    44,   571,   676,  4077,    77,   802,  4419,\n",
       "          490,   224,   685,   998,   802,     8,    87,    97,  1609,\n",
       "         2375,     6,   423,  2947,     0,     0,     0,     0,     0,\n",
       "            0,     0,     0,     0,     0,     0,     0,     0,     0,\n",
       "            0,     0,     0,     0,     0,     0,     0,     0,     0,\n",
       "            0,     0,     0,     0,     0,     0]], dtype=int64)"
      ]
     },
     "execution_count": 10,
     "metadata": {},
     "output_type": "execute_result"
    }
   ],
   "source": [
    "padded_docs[[0]]"
   ]
  },
  {
   "cell_type": "code",
   "execution_count": 12,
   "metadata": {},
   "outputs": [
    {
     "name": "stdout",
     "output_type": "stream",
     "text": [
      "1/1 [==============================] - 2s 2s/step\n"
     ]
    },
    {
     "data": {
      "text/plain": [
       "array([[0.998613]], dtype=float32)"
      ]
     },
     "execution_count": 12,
     "metadata": {},
     "output_type": "execute_result"
    }
   ],
   "source": [
    "model.predict(padded_docs[[7865]])"
   ]
  },
  {
   "cell_type": "markdown",
   "metadata": {},
   "source": [
    "## testing with encoding"
   ]
  },
  {
   "cell_type": "code",
   "execution_count": 16,
   "metadata": {},
   "outputs": [],
   "source": [
    "from keras.preprocessing.text import Tokenizer\n",
    "from keras.utils import pad_sequences\n",
    "from bs4 import BeautifulSoup\n",
    "import re\n",
    "from nltk.corpus import stopwords\n",
    "from nltk.stem import PorterStemmer"
   ]
  },
  {
   "cell_type": "code",
   "execution_count": 18,
   "metadata": {},
   "outputs": [
    {
     "name": "stdout",
     "output_type": "stream",
     "text": [
      "im big fan work many enjoyed movie postal im boll apparently bought rights use far cry long ago even game even people enjoyed killing mercs infiltrating secret research labs located tropical island far something mr boll schemed together along legion feeling loneley set mr boll invites three countrymen play players go names til udo kier ralf names actually made selfs pretty big movie tale goes like jack carver played til schweiger carver german hail bratwurst eating however find tils acting movie pretty people complained really staying true whole carver agenda saw carver first person perspective really know looked like kicking storyline film beyond see evil mad scientist krieger played udo making gms performing research island reminds vancouver thats right palm trees instead got nice rich even gone far started cry cannot go wanna stay true bolls shenanigans go see movie disappointed delivers true boll meaning things worth mentioning would imply boll good work areas film nice boat fighting whole gms squad enters scene everything makes movie far cry reeks scheisse poop wanna take wiff go btw carver gets annoying sidekick makes wanna shoot first three minutes\n"
     ]
    }
   ],
   "source": [
    "class preprocess_input:\n",
    "    def __init__(self, text):\n",
    "        self.text = text.lower()  # Initialize the text attribute\n",
    "    \n",
    "    # remove html tags\n",
    "    def remove_html_tags(self):\n",
    "        soup = BeautifulSoup(self.text, \"html.parser\")\n",
    "        return soup.get_text()\n",
    "    \n",
    "    def remove_between_square_brackets(self):\n",
    "        return re.sub(r'http\\S+', '', self.text)\n",
    "    \n",
    "    def remove_stopwords(self):\n",
    "        stop = set(stopwords.words('english'))\n",
    "        final_text = []\n",
    "        for i in self.text.split():\n",
    "            if i.strip().lower() not in stop and i.strip().lower().isalpha():\n",
    "                final_text.append(i.strip().lower())\n",
    "        return \" \".join(final_text)\n",
    "    \n",
    "    def use_all(self):\n",
    "        txt = self.remove_html_tags()\n",
    "        txt = self.remove_between_square_brackets()\n",
    "        txt = self.remove_stopwords()\n",
    "        return txt\n",
    "    \n",
    "    def __str__(self) -> str:\n",
    "        return self.use_all()\n",
    "    \n",
    "\n",
    "txt = \"\"\" im big fan work many enjoyed movie postal im boll apparently bought rights use far cry long ago even game even\n",
    " people enjoyed killing mercs infiltrating secret research labs located tropical island far something mr boll schemed together\n",
    "   along legion feeling loneley set mr boll invites three countrymen play players go names til udo kier ralf names actually made \n",
    "   selfs pretty big movie tale goes like jack carver played til schweiger carver german hail bratwurst eating however find tils acting movie pretty\n",
    "     people complained really staying true whole carver agenda saw carver first person perspective really know looked like kicking storyline film beyond \n",
    "     see evil mad scientist krieger played udo making gms performing research island reminds vancouver thats right palm trees instead got nice rich even gone \n",
    "     far started cry cannot go wanna stay true bolls shenanigans go see movie disappointed delivers true boll meaning things worth mentioning would imply boll\n",
    "       good work areas film nice boat fighting whole gms squad enters scene everything makes movie far cry reeks scheisse poop wanna take wiff go btw carver gets\n",
    "         annoying sidekick makes wanna shoot first three minutes\"\"\"\n",
    "\n",
    "obj = preprocess_input(text=txt)\n",
    "print(obj)\n"
   ]
  },
  {
   "cell_type": "code",
   "execution_count": null,
   "metadata": {},
   "outputs": [],
   "source": [
    "ps = PorterStemmer()\n",
    "corpus = []\n",
    "for i in tqdm(range(0,len(X)),desc =\"build corpus\"):\n",
    "    stemmed_words = [ps.stem(word) for word in X[i].split()]\n",
    "    text = ' '.join(stemmed_words)\n",
    "    corpus.append(text)\n",
    "    \n",
    "    # print(' '.join(stemmed_words))\n",
    "corpus"
   ]
  },
  {
   "cell_type": "code",
   "execution_count": null,
   "metadata": {},
   "outputs": [],
   "source": []
  },
  {
   "cell_type": "code",
   "execution_count": 15,
   "metadata": {},
   "outputs": [
    {
     "name": "stdout",
     "output_type": "stream",
     "text": [
      "<keras.src.preprocessing.text.Tokenizer object at 0x0000025F449A56D0>\n",
      "<keras.src.preprocessing.text.Tokenizer object at 0x0000025F449A56D0>\n",
      "[[3], [11], [], [21], [3], [10], [], [19], [2], [4], [], [20], [6], [5], [18], [], [11], [2], [4], [14], [], [1], [4], [23], [6], [14], [1], [13], [], [11], [6], [17], [3], [1], [], [15], [6], [8], [7], [2], [9], [], [3], [11], [], [21], [6], [9], [9], [], [2], [15], [15], [2], [5], [1], [4], [7], [9], [14], [], [21], [6], [22], [10], [16], [7], [], [5], [3], [10], [16], [7], [8], [], [22], [8], [1], [], [19], [2], [5], [], [12], [5], [14], [], [9], [6], [4], [10], [], [2], [10], [6], [], [1], [17], [1], [4], [], [10], [2], [11], [1], [], [1], [17], [1], [4], [], [15], [1], [6], [15], [9], [1], [], [1], [4], [23], [6], [14], [1], [13], [], [18], [3], [9], [9], [3], [4], [10], [], [11], [1], [5], [12], [8], [], [3], [4], [19], [3], [9], [7], [5], [2], [7], [3], [4], [10], [], [8], [1], [12], [5], [1], [7], [], [5], [1], [8], [1], [2], [5], [12], [16], [], [9], [2], [21], [8], [], [9], [6], [12], [2], [7], [1], [13], [], [7], [5], [6], [15], [3], [12], [2], [9], [], [3], [8], [9], [2], [4], [13], [], [19], [2], [5], [], [8], [6], [11], [1], [7], [16], [3], [4], [10], [], [11], [5], [], [21], [6], [9], [9], [], [8], [12], [16], [1], [11], [1], [13], [], [7], [6], [10], [1], [7], [16], [1], [5], [], [2], [9], [6], [4], [10], [], [9], [1], [10], [3], [6], [4], [], [19], [1], [1], [9], [3], [4], [10], [], [9], [6], [4], [1], [9], [1], [14], [], [8], [1], [7], [], [11], [5], [], [21], [6], [9], [9], [], [3], [4], [17], [3], [7], [1], [8], [], [7], [16], [5], [1], [1], [], [12], [6], [22], [4], [7], [5], [14], [11], [1], [4], [], [15], [9], [2], [14], [], [15], [9], [2], [14], [1], [5], [8], [], [10], [6], [], [4], [2], [11], [1], [8], [], [7], [3], [9], [], [22], [13], [6], [], [18], [3], [1], [5], [], [5], [2], [9], [19], [], [4], [2], [11], [1], [8], [], [2], [12], [7], [22], [2], [9], [9], [14], [], [11], [2], [13], [1], [], [8], [1], [9], [19], [8], [], [15], [5], [1], [7], [7], [14], [], [21], [3], [10], [], [11], [6], [17], [3], [1], [], [7], [2], [9], [1], [], [10], [6], [1], [8], [], [9], [3], [18], [1], [], [23], [2], [12], [18], [], [12], [2], [5], [17], [1], [5], [], [15], [9], [2], [14], [1], [13], [], [7], [3], [9], [], [8], [12], [16], [20], [1], [3], [10], [1], [5], [], [12], [2], [5], [17], [1], [5], [], [10], [1], [5], [11], [2], [4], [], [16], [2], [3], [9], [], [21], [5], [2], [7], [20], [22], [5], [8], [7], [], [1], [2], [7], [3], [4], [10], [], [16], [6], [20], [1], [17], [1], [5], [], [19], [3], [4], [13], [], [7], [3], [9], [8], [], [2], [12], [7], [3], [4], [10], [], [11], [6], [17], [3], [1], [], [15], [5], [1], [7], [7], [14], [], [15], [1], [6], [15], [9], [1], [], [12], [6], [11], [15], [9], [2], [3], [4], [1], [13], [], [5], [1], [2], [9], [9], [14], [], [8], [7], [2], [14], [3], [4], [10], [], [7], [5], [22], [1], [], [20], [16], [6], [9], [1], [], [12], [2], [5], [17], [1], [5], [], [2], [10], [1], [4], [13], [2], [], [8], [2], [20], [], [12], [2], [5], [17], [1], [5], [], [19], [3], [5], [8], [7], [], [15], [1], [5], [8], [6], [4], [], [15], [1], [5], [8], [15], [1], [12], [7], [3], [17], [1], [], [5], [1], [2], [9], [9], [14], [], [18], [4], [6], [20], [], [9], [6], [6], [18], [1], [13], [], [9], [3], [18], [1], [], [18], [3], [12], [18], [3], [4], [10], [], [8], [7], [6], [5], [14], [9], [3], [4], [1], [], [19], [3], [9], [11], [], [21], [1], [14], [6], [4], [13], [], [8], [1], [1], [], [1], [17], [3], [9], [], [11], [2], [13], [], [8], [12], [3], [1], [4], [7], [3], [8], [7], [], [18], [5], [3], [1], [10], [1], [5], [], [15], [9], [2], [14], [1], [13], [], [22], [13], [6], [], [11], [2], [18], [3], [4], [10], [], [10], [11], [8], [], [15], [1], [5], [19], [6], [5], [11], [3], [4], [10], [], [5], [1], [8], [1], [2], [5], [12], [16], [], [3], [8], [9], [2], [4], [13], [], [5], [1], [11], [3], [4], [13], [8], [], [17], [2], [4], [12], [6], [22], [17], [1], [5], [], [7], [16], [2], [7], [8], [], [5], [3], [10], [16], [7], [], [15], [2], [9], [11], [], [7], [5], [1], [1], [8], [], [3], [4], [8], [7], [1], [2], [13], [], [10], [6], [7], [], [4], [3], [12], [1], [], [5], [3], [12], [16], [], [1], [17], [1], [4], [], [10], [6], [4], [1], [], [19], [2], [5], [], [8], [7], [2], [5], [7], [1], [13], [], [12], [5], [14], [], [12], [2], [4], [4], [6], [7], [], [10], [6], [], [20], [2], [4], [4], [2], [], [8], [7], [2], [14], [], [7], [5], [22], [1], [], [21], [6], [9], [9], [8], [], [8], [16], [1], [4], [2], [4], [3], [10], [2], [4], [8], [], [10], [6], [], [8], [1], [1], [], [11], [6], [17], [3], [1], [], [13], [3], [8], [2], [15], [15], [6], [3], [4], [7], [1], [13], [], [13], [1], [9], [3], [17], [1], [5], [8], [], [7], [5], [22], [1], [], [21], [6], [9], [9], [], [11], [1], [2], [4], [3], [4], [10], [], [7], [16], [3], [4], [10], [8], [], [20], [6], [5], [7], [16], [], [11], [1], [4], [7], [3], [6], [4], [3], [4], [10], [], [20], [6], [22], [9], [13], [], [3], [11], [15], [9], [14], [], [21], [6], [9], [9], [], [10], [6], [6], [13], [], [20], [6], [5], [18], [], [2], [5], [1], [2], [8], [], [19], [3], [9], [11], [], [4], [3], [12], [1], [], [21], [6], [2], [7], [], [19], [3], [10], [16], [7], [3], [4], [10], [], [20], [16], [6], [9], [1], [], [10], [11], [8], [], [8], [24], [22], [2], [13], [], [1], [4], [7], [1], [5], [8], [], [8], [12], [1], [4], [1], [], [1], [17], [1], [5], [14], [7], [16], [3], [4], [10], [], [11], [2], [18], [1], [8], [], [11], [6], [17], [3], [1], [], [19], [2], [5], [], [12], [5], [14], [], [5], [1], [1], [18], [8], [], [8], [12], [16], [1], [3], [8], [8], [1], [], [15], [6], [6], [15], [], [20], [2], [4], [4], [2], [], [7], [2], [18], [1], [], [20], [3], [19], [19], [], [10], [6], [], [21], [7], [20], [], [12], [2], [5], [17], [1], [5], [], [10], [1], [7], [8], [], [2], [4], [4], [6], [14], [3], [4], [10], [], [8], [3], [13], [1], [18], [3], [12], [18], [], [11], [2], [18], [1], [8], [], [20], [2], [4], [4], [2], [], [8], [16], [6], [6], [7], [], [19], [3], [5], [8], [7], [], [7], [16], [5], [1], [1], [], [11], [3], [4], [22], [7], [1], [8]]\n",
      "[[ 3  0  0 ...  0  0  0]\n",
      " [11  0  0 ...  0  0  0]\n",
      " [ 0  0  0 ...  0  0  0]\n",
      " ...\n",
      " [ 7  0  0 ...  0  0  0]\n",
      " [ 1  0  0 ...  0  0  0]\n",
      " [ 8  0  0 ...  0  0  0]]\n"
     ]
    },
    {
     "data": {
      "text/plain": [
       "array([[ 3,  0,  0, ...,  0,  0,  0],\n",
       "       [11,  0,  0, ...,  0,  0,  0],\n",
       "       [ 0,  0,  0, ...,  0,  0,  0],\n",
       "       ...,\n",
       "       [ 7,  0,  0, ...,  0,  0,  0],\n",
       "       [ 1,  0,  0, ...,  0,  0,  0],\n",
       "       [ 8,  0,  0, ...,  0,  0,  0]])"
      ]
     },
     "execution_count": 15,
     "metadata": {},
     "output_type": "execute_result"
    }
   ],
   "source": [
    "def tokenize_vectorize_input(text:str):\n",
    "    ps = PorterStemmer()\n",
    "\n",
    "    stemmed_words = [ps.stem(word) for word in text.split()]\n",
    "    tokenizer = Tokenizer()\n",
    "    print(tokenizer)\n",
    "    tokenizer.fit_on_texts(texts=text)\n",
    "    print(tokenizer)\n",
    "    docs = tokenizer.texts_to_sequences(text)\n",
    "    print(docs)\n",
    "    pad_docs = pad_sequences(sequences=docs,maxlen=150,padding='post')\n",
    "    print(pad_docs)\n",
    "    return np.array(pad_docs)\n",
    "\n",
    "tokenize_vectorize_input(obj.text)\n"
   ]
  },
  {
   "cell_type": "code",
   "execution_count": null,
   "metadata": {},
   "outputs": [],
   "source": []
  },
  {
   "cell_type": "code",
   "execution_count": null,
   "metadata": {},
   "outputs": [
    {
     "data": {
      "text/plain": [
       "array([21,  0,  0,  0,  0,  0,  0,  0,  0,  0,  0,  0,  0,  0,  0,  0,  0,\n",
       "        0,  0,  0,  0,  0,  0,  0,  0,  0,  0,  0,  0,  0,  0,  0,  0,  0,\n",
       "        0,  0,  0,  0,  0,  0,  0,  0,  0,  0,  0,  0,  0,  0,  0,  0,  0,\n",
       "        0,  0,  0,  0,  0,  0,  0,  0,  0,  0,  0,  0,  0,  0,  0,  0,  0,\n",
       "        0,  0,  0,  0,  0,  0,  0,  0,  0,  0,  0,  0,  0,  0,  0,  0,  0,\n",
       "        0,  0,  0,  0,  0,  0,  0,  0,  0,  0,  0,  0,  0,  0,  0,  0,  0,\n",
       "        0,  0,  0,  0,  0,  0,  0,  0,  0,  0,  0,  0,  0,  0,  0,  0,  0,\n",
       "        0,  0,  0,  0,  0,  0,  0,  0,  0,  0,  0,  0,  0,  0,  0,  0,  0,\n",
       "        0,  0,  0,  0,  0,  0,  0,  0,  0,  0,  0,  0,  0,  0])"
      ]
     },
     "execution_count": 25,
     "metadata": {},
     "output_type": "execute_result"
    }
   ],
   "source": [
    "text[3]"
   ]
  },
  {
   "cell_type": "code",
   "execution_count": null,
   "metadata": {},
   "outputs": [
    {
     "name": "stdout",
     "output_type": "stream",
     "text": [
      "37/37 [==============================] - 3s 43ms/step\n"
     ]
    }
   ],
   "source": [
    "pred = model.predict(text)"
   ]
  },
  {
   "cell_type": "code",
   "execution_count": null,
   "metadata": {},
   "outputs": [
    {
     "data": {
      "text/plain": [
       "array([[0.11051664],\n",
       "       [0.15846196],\n",
       "       [0.05775732],\n",
       "       ...,\n",
       "       [0.05100874],\n",
       "       [0.05775733],\n",
       "       [0.06046253]], dtype=float32)"
      ]
     },
     "execution_count": 14,
     "metadata": {},
     "output_type": "execute_result"
    }
   ],
   "source": [
    "pred"
   ]
  },
  {
   "cell_type": "code",
   "execution_count": null,
   "metadata": {},
   "outputs": [
    {
     "data": {
      "text/plain": [
       "array([0.15846196], dtype=float32)"
      ]
     },
     "execution_count": 15,
     "metadata": {},
     "output_type": "execute_result"
    }
   ],
   "source": [
    "max(pred)"
   ]
  },
  {
   "cell_type": "code",
   "execution_count": null,
   "metadata": {},
   "outputs": [],
   "source": []
  }
 ],
 "metadata": {
  "kernelspec": {
   "display_name": "Python 3",
   "language": "python",
   "name": "python3"
  },
  "language_info": {
   "codemirror_mode": {
    "name": "ipython",
    "version": 3
   },
   "file_extension": ".py",
   "mimetype": "text/x-python",
   "name": "python",
   "nbconvert_exporter": "python",
   "pygments_lexer": "ipython3",
   "version": "3.11.3"
  },
  "orig_nbformat": 4
 },
 "nbformat": 4,
 "nbformat_minor": 2
}
