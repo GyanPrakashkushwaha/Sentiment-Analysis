{
 "cells": [
  {
   "cell_type": "code",
   "execution_count": 1,
   "metadata": {},
   "outputs": [],
   "source": [
    "from keras.models import load_model"
   ]
  },
  {
   "cell_type": "code",
   "execution_count": 2,
   "metadata": {},
   "outputs": [],
   "source": [
    "import pandas as pd\n",
    "import numpy as np"
   ]
  },
  {
   "cell_type": "code",
   "execution_count": 3,
   "metadata": {},
   "outputs": [
    {
     "name": "stdout",
     "output_type": "stream",
     "text": [
      "d:\\vscode_machineLearning\\internship\\sentiment-Analysis-fellowship.ai\\notebooks\n"
     ]
    }
   ],
   "source": [
    "import os\n",
    "print(os.getcwd())\n",
    "os.chdir(r'd:\\\\vscode_machineLearning\\\\internship\\\\sentiment-Analysis-fellowship.ai')"
   ]
  },
  {
   "cell_type": "code",
   "execution_count": 4,
   "metadata": {},
   "outputs": [],
   "source": [
    "model = load_model(r'sentimentAnalysisModel')"
   ]
  },
  {
   "cell_type": "code",
   "execution_count": 5,
   "metadata": {},
   "outputs": [
    {
     "name": "stdout",
     "output_type": "stream",
     "text": [
      "Model: \"LSTM_model\"\n",
      "_________________________________________________________________\n",
      " Layer (type)                Output Shape              Param #   \n",
      "=================================================================\n",
      " input_layer (Embedding)     (None, 150, 100)          5694200   \n",
      "                                                                 \n",
      " LSTM_1 (Bidirectional)      (None, 150, 128)          84480     \n",
      "                                                                 \n",
      " dropout_2 (Dropout)         (None, 150, 128)          0         \n",
      "                                                                 \n",
      " batch_normalization_1 (Bat  (None, 150, 128)          512       \n",
      " chNormalization)                                                \n",
      "                                                                 \n",
      " dropout_3 (Dropout)         (None, 150, 128)          0         \n",
      "                                                                 \n",
      " LSTM_2 (Bidirectional)      (None, 64)                41216     \n",
      "                                                                 \n",
      " fully_connected_layer (Den  (None, 128)               8320      \n",
      " se)                                                             \n",
      "                                                                 \n",
      " output_layer (Dense)        (None, 1)                 129       \n",
      "                                                                 \n",
      "=================================================================\n",
      "Total params: 5828857 (22.24 MB)\n",
      "Trainable params: 5828601 (22.23 MB)\n",
      "Non-trainable params: 256 (1.00 KB)\n",
      "_________________________________________________________________\n"
     ]
    }
   ],
   "source": [
    "model.summary()"
   ]
  },
  {
   "cell_type": "markdown",
   "metadata": {},
   "source": [
    "## testing"
   ]
  },
  {
   "cell_type": "code",
   "execution_count": 6,
   "metadata": {},
   "outputs": [],
   "source": [
    "padded_docs = pd.read_csv(r'sentiment-analysis-dataset\\padded_docs.csv')\n",
    "padded_docs = padded_docs.drop(columns='Unnamed: 0')"
   ]
  },
  {
   "cell_type": "code",
   "execution_count": 7,
   "metadata": {},
   "outputs": [],
   "source": [
    "padded_docs = padded_docs.iloc[:,:150]"
   ]
  },
  {
   "cell_type": "code",
   "execution_count": 8,
   "metadata": {},
   "outputs": [],
   "source": [
    "padded_docs=np.array(padded_docs)\n",
    "padded_docs = np.array(padded_docs)"
   ]
  },
  {
   "cell_type": "code",
   "execution_count": 9,
   "metadata": {},
   "outputs": [
    {
     "data": {
      "text/plain": [
       "array([[    3,   237,   317,     8,  3680,   216,   440,   131,    24,\n",
       "           32,  2294,  3680,   996,  9208,    19,    88,   134,   332,\n",
       "         1209,    21,  4362,   442,    21,   452,  1695,   937,   338,\n",
       "          263,    56,   130,  3680,  5646,   232, 10499,  4639,  1581,\n",
       "          534,   905,  1097, 13548,  2967,  1882,   802,  1939,  1845,\n",
       "          744,   251, 12671,   223,  6462,   517,   312,  1824,   300,\n",
       "         4908,   346,  5480,  7134,    38,   126,    10,    41,   157,\n",
       "          756,    21,   490,   122,   165,    21,   582,    80,   324,\n",
       "          972,  2025,   582,   582,   845,    24,   216,    51,    99,\n",
       "         2294,  1310,    41,  1207,     8,   373,  1049,    83,  6109,\n",
       "          223,   568,  1103,  4950,  1721,  2152,  4077,    91,   414,\n",
       "            6,   188,    44,   571,   676,  4077,    77,   802,  4419,\n",
       "          490,   224,   685,   998,   802,     8,    87,    97,  1609,\n",
       "         2375,     6,   423,  2947,     0,     0,     0,     0,     0,\n",
       "            0,     0,     0,     0,     0,     0,     0,     0,     0,\n",
       "            0,     0,     0,     0,     0,     0,     0,     0,     0,\n",
       "            0,     0,     0,     0,     0,     0]], dtype=int64)"
      ]
     },
     "execution_count": 9,
     "metadata": {},
     "output_type": "execute_result"
    }
   ],
   "source": [
    "padded_docs[[0]]"
   ]
  },
  {
   "cell_type": "code",
   "execution_count": 36,
   "metadata": {},
   "outputs": [
    {
     "name": "stdout",
     "output_type": "stream",
     "text": [
      "1/1 [==============================] - 0s 55ms/step\n"
     ]
    },
    {
     "data": {
      "text/plain": [
       "array([[0.998613]], dtype=float32)"
      ]
     },
     "execution_count": 36,
     "metadata": {},
     "output_type": "execute_result"
    }
   ],
   "source": [
    "model.predict(padded_docs[[7865]])"
   ]
  },
  {
   "cell_type": "markdown",
   "metadata": {},
   "source": [
    "## testing with encoding"
   ]
  },
  {
   "cell_type": "code",
   "execution_count": 13,
   "metadata": {},
   "outputs": [],
   "source": [
    "from keras.preprocessing.text import Tokenizer\n",
    "from keras.utils import pad_sequences"
   ]
  },
  {
   "cell_type": "code",
   "execution_count": 32,
   "metadata": {},
   "outputs": [],
   "source": [
    "def preprocess_input(text:str):\n",
    "    tokenizer = Tokenizer()\n",
    "    tokenizer.fit_on_texts(texts=text)\n",
    "    docs = tokenizer.texts_to_sequences(text)\n",
    "    pad_docs = pad_sequences(sequences=docs,maxlen=150,padding='post')\n",
    "    return np.array(pad_docs)"
   ]
  },
  {
   "cell_type": "code",
   "execution_count": 33,
   "metadata": {},
   "outputs": [],
   "source": [
    "text = preprocess_input(text='12,im big fan work many enjoyed movie postal im boll apparently bought rights use far cry long ago even game even people enjoyed killing mercs infiltrating secret research labs located tropical island far something mr boll schemed together along legion feeling loneley set mr boll invites three countrymen play players go names til udo kier ralf names actually made selfs pretty big movie tale goes like jack carver played til schweiger carver german hail bratwurst eating however find tils acting movie pretty people complained really staying true whole carver agenda saw carver first person perspective really know looked like kicking storyline film beyond see evil mad scientist krieger played udo making gms performing research island reminds vancouver thats right palm trees instead got nice rich even gone far started cry cannot go wanna stay true bolls shenanigans go see movie disappointed delivers true boll meaning things worth mentioning would imply boll good work areas film nice boat fighting whole gms squad enters scene everything makes movie far cry reeks scheisse poop wanna take wiff go btw carver gets annoying sidekick makes wanna shoot first three minutes,0')"
   ]
  },
  {
   "cell_type": "code",
   "execution_count": 34,
   "metadata": {},
   "outputs": [
    {
     "name": "stdout",
     "output_type": "stream",
     "text": [
      "37/37 [==============================] - 2s 42ms/step\n"
     ]
    }
   ],
   "source": [
    "pred = model.predict(text)"
   ]
  },
  {
   "cell_type": "code",
   "execution_count": 35,
   "metadata": {},
   "outputs": [
    {
     "data": {
      "text/plain": [
       "array([[0.11051664],\n",
       "       [0.15846196],\n",
       "       [0.05775732],\n",
       "       ...,\n",
       "       [0.05100874],\n",
       "       [0.05775733],\n",
       "       [0.06046253]], dtype=float32)"
      ]
     },
     "execution_count": 35,
     "metadata": {},
     "output_type": "execute_result"
    }
   ],
   "source": [
    "pred"
   ]
  },
  {
   "cell_type": "code",
   "execution_count": 29,
   "metadata": {},
   "outputs": [
    {
     "data": {
      "text/plain": [
       "array([0.15846196], dtype=float32)"
      ]
     },
     "execution_count": 29,
     "metadata": {},
     "output_type": "execute_result"
    }
   ],
   "source": [
    "max(pred)"
   ]
  },
  {
   "cell_type": "code",
   "execution_count": null,
   "metadata": {},
   "outputs": [],
   "source": []
  }
 ],
 "metadata": {
  "kernelspec": {
   "display_name": "Python 3",
   "language": "python",
   "name": "python3"
  },
  "language_info": {
   "codemirror_mode": {
    "name": "ipython",
    "version": 3
   },
   "file_extension": ".py",
   "mimetype": "text/x-python",
   "name": "python",
   "nbconvert_exporter": "python",
   "pygments_lexer": "ipython3",
   "version": "3.11.3"
  },
  "orig_nbformat": 4
 },
 "nbformat": 4,
 "nbformat_minor": 2
}
