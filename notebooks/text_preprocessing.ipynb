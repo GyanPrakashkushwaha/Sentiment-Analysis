{
 "cells": [
  {
   "cell_type": "code",
   "execution_count": 21,
   "metadata": {},
   "outputs": [],
   "source": [
    "import pandas as pd\n",
    "import numpy as np\n",
    "from pprint import pprint\n",
    "from bs4 import BeautifulSoup\n",
    "import re"
   ]
  },
  {
   "cell_type": "code",
   "execution_count": 22,
   "metadata": {},
   "outputs": [],
   "source": [
    "df = pd.read_csv('sentiment-analysis-dataset/IMDB Dataset.csv')"
   ]
  },
  {
   "cell_type": "code",
   "execution_count": 23,
   "metadata": {},
   "outputs": [
    {
     "data": {
      "text/html": [
       "<div>\n",
       "<style scoped>\n",
       "    .dataframe tbody tr th:only-of-type {\n",
       "        vertical-align: middle;\n",
       "    }\n",
       "\n",
       "    .dataframe tbody tr th {\n",
       "        vertical-align: top;\n",
       "    }\n",
       "\n",
       "    .dataframe thead th {\n",
       "        text-align: right;\n",
       "    }\n",
       "</style>\n",
       "<table border=\"1\" class=\"dataframe\">\n",
       "  <thead>\n",
       "    <tr style=\"text-align: right;\">\n",
       "      <th></th>\n",
       "      <th>review</th>\n",
       "      <th>sentiment</th>\n",
       "    </tr>\n",
       "  </thead>\n",
       "  <tbody>\n",
       "    <tr>\n",
       "      <th>20959</th>\n",
       "      <td>Heather Graham couldn't play a convincing lesb...</td>\n",
       "      <td>negative</td>\n",
       "    </tr>\n",
       "    <tr>\n",
       "      <th>7752</th>\n",
       "      <td>This movie is so stupid that I want my $2.99 b...</td>\n",
       "      <td>negative</td>\n",
       "    </tr>\n",
       "    <tr>\n",
       "      <th>27908</th>\n",
       "      <td>When I was a kid I remembered this show but th...</td>\n",
       "      <td>positive</td>\n",
       "    </tr>\n",
       "  </tbody>\n",
       "</table>\n",
       "</div>"
      ],
      "text/plain": [
       "                                                  review sentiment\n",
       "20959  Heather Graham couldn't play a convincing lesb...  negative\n",
       "7752   This movie is so stupid that I want my $2.99 b...  negative\n",
       "27908  When I was a kid I remembered this show but th...  positive"
      ]
     },
     "execution_count": 23,
     "metadata": {},
     "output_type": "execute_result"
    }
   ],
   "source": [
    "df.sample(3)"
   ]
  },
  {
   "cell_type": "code",
   "execution_count": 24,
   "metadata": {},
   "outputs": [],
   "source": [
    "def random_values(feature_name='review',total=6):\n",
    "    for i in range(0,total):\n",
    "        index = np.random.randint(df.shape[0])\n",
    "        return index,df[feature_name].iloc[index]\n",
    "        # print(])"
   ]
  },
  {
   "cell_type": "code",
   "execution_count": 25,
   "metadata": {},
   "outputs": [
    {
     "data": {
      "text/html": [
       "<div>\n",
       "<style scoped>\n",
       "    .dataframe tbody tr th:only-of-type {\n",
       "        vertical-align: middle;\n",
       "    }\n",
       "\n",
       "    .dataframe tbody tr th {\n",
       "        vertical-align: top;\n",
       "    }\n",
       "\n",
       "    .dataframe thead th {\n",
       "        text-align: right;\n",
       "    }\n",
       "</style>\n",
       "<table border=\"1\" class=\"dataframe\">\n",
       "  <thead>\n",
       "    <tr style=\"text-align: right;\">\n",
       "      <th></th>\n",
       "      <th>review</th>\n",
       "      <th>sentiment</th>\n",
       "    </tr>\n",
       "  </thead>\n",
       "  <tbody>\n",
       "    <tr>\n",
       "      <th>count</th>\n",
       "      <td>50000</td>\n",
       "      <td>50000</td>\n",
       "    </tr>\n",
       "    <tr>\n",
       "      <th>unique</th>\n",
       "      <td>49582</td>\n",
       "      <td>2</td>\n",
       "    </tr>\n",
       "    <tr>\n",
       "      <th>top</th>\n",
       "      <td>Loved today's show!!! It was a variety and not...</td>\n",
       "      <td>positive</td>\n",
       "    </tr>\n",
       "    <tr>\n",
       "      <th>freq</th>\n",
       "      <td>5</td>\n",
       "      <td>25000</td>\n",
       "    </tr>\n",
       "  </tbody>\n",
       "</table>\n",
       "</div>"
      ],
      "text/plain": [
       "                                                   review sentiment\n",
       "count                                               50000     50000\n",
       "unique                                              49582         2\n",
       "top     Loved today's show!!! It was a variety and not...  positive\n",
       "freq                                                    5     25000"
      ]
     },
     "execution_count": 25,
     "metadata": {},
     "output_type": "execute_result"
    }
   ],
   "source": [
    "df.describe()"
   ]
  },
  {
   "cell_type": "code",
   "execution_count": 26,
   "metadata": {},
   "outputs": [
    {
     "name": "stdout",
     "output_type": "stream",
     "text": [
      "(3428,\n",
      " 'Worst Movie I Have Ever Seen! 90 Minutes of excruciating film-making. All '\n",
      " 'the ingredients to make this movie a true work of CRAP. Bad acting, bad '\n",
      " 'directing, bad storytelling, bad makeup, bad dialogue, bad effects, and bad '\n",
      " 'reasoning behind certain actions taken by the characters. It also threw in a '\n",
      " 'terrible naked shot of a dumb blond, and a breast shot of a stupid Asian '\n",
      " 'girl, and both attempts were just scary, since these girls are ugly. Some '\n",
      " 'good horror movies came out of the 80s, but this could never be considered '\n",
      " 'one of them. Kevin Tenney also committed one of the greatest sins in '\n",
      " 'storytelling: he introduced characters at the end of the movie (an Old Man '\n",
      " 'and Old Woman). I would vote for it below a 1 out of 10 but the voting '\n",
      " \"system doesn't work that way apparently. Right from the title sequence I \"\n",
      " \"knew it would suck and I would return my DVD but Best Buy doesn't refund \"\n",
      " 'DVDs, or consumable products as they call it, or so my receipt says. I have '\n",
      " '\"The Dunwich Horror\" and that was truly god-awful, but I still feel that '\n",
      " '\"Night of the Demons\" (an obvious Evil Dead RIP-OFF) was far worse than '\n",
      " '\"Dunwich Horror.\" This is just like \"The Howling,\" how in the hell could '\n",
      " 'sequels get milked out of this anorexic cow??? Save your money and get the '\n",
      " '\"Texas Chainsaw Massacre\" (just don\\'t get any of its sequels though) or '\n",
      " '\"The Evil Dead\" or \"Dawn of the Dead.\" \"Night of the Demons\" is a very, '\n",
      " 'very, very bad investment. Every second of it was just maddening, '\n",
      " 'excruciating pain for the audience, because the whole movie all-around was '\n",
      " \"horrible! Do yourself a favor, DON'T SEE IT! You'll be saving some brain \"\n",
      " 'cells.')\n"
     ]
    }
   ],
   "source": [
    "pprint(random_values())"
   ]
  },
  {
   "cell_type": "markdown",
   "metadata": {},
   "source": [
    "## remove html tags"
   ]
  },
  {
   "cell_type": "code",
   "execution_count": 27,
   "metadata": {},
   "outputs": [],
   "source": [
    "def remove_html_tags(text):\n",
    "    soup = BeautifulSoup(text, \"html.parser\")\n",
    "    return soup.get_text()"
   ]
  },
  {
   "cell_type": "code",
   "execution_count": 28,
   "metadata": {},
   "outputs": [
    {
     "name": "stdout",
     "output_type": "stream",
     "text": [
      "(\"One of the other reviewers has mentioned that after watching just 1 Oz episode you'll be hooked. They are right, as \"\n",
      " 'this is exactly what happened with me.The first thing that struck me about Oz was its brutality and unflinching '\n",
      " 'scenes of violence, which set in right from the word GO. Trust me, this is not a show for the faint hearted or '\n",
      " 'timid. This show pulls no punches with regards to drugs, sex or violence. Its is hardcore, in the classic use of the '\n",
      " 'word.It is called OZ as that is the nickname given to the Oswald Maximum Security State Penitentary. It focuses '\n",
      " 'mainly on Emerald City, an experimental section of the prison where all the cells have glass fronts and face '\n",
      " 'inwards, so privacy is not high on the agenda. Em City is home to many..Aryans, Muslims, gangstas, Latinos, '\n",
      " 'Christians, Italians, Irish and more....so scuffles, death stares, dodgy dealings and shady agreements are never far '\n",
      " \"away.I would say the main appeal of the show is due to the fact that it goes where other shows wouldn't dare. Forget \"\n",
      " \"pretty pictures painted for mainstream audiences, forget charm, forget romance...OZ doesn't mess around. The first \"\n",
      " \"episode I ever saw struck me as so nasty it was surreal, I couldn't say I was ready for it, but as I watched more, I \"\n",
      " 'developed a taste for Oz, and got accustomed to the high levels of graphic violence. Not just violence, but '\n",
      " \"injustice (crooked guards who'll be sold out for a nickel, inmates who'll kill on order and get away with it, well \"\n",
      " 'mannered, middle class inmates being turned into prison bitches due to their lack of street skills or prison '\n",
      " 'experience) Watching Oz, you may become comfortable with what is uncomfortable viewing....thats if you can get in '\n",
      " 'touch with your darker side.')\n"
     ]
    }
   ],
   "source": [
    "pprint(remove_html_tags(df['review'][0]),width=120)"
   ]
  },
  {
   "cell_type": "code",
   "execution_count": 29,
   "metadata": {},
   "outputs": [
    {
     "name": "stdout",
     "output_type": "stream",
     "text": [
      "(\"One of the other reviewers has mentioned that after watching just 1 Oz episode you'll be hooked. They are right, as \"\n",
      " 'this is exactly what happened with me.<br /><br />The first thing that struck me about Oz was its brutality and '\n",
      " 'unflinching scenes of violence, which set in right from the word GO. Trust me, this is not a show for the faint '\n",
      " 'hearted or timid. This show pulls no punches with regards to drugs, sex or violence. Its is hardcore, in the classic '\n",
      " 'use of the word.<br /><br />It is called OZ as that is the nickname given to the Oswald Maximum Security State '\n",
      " 'Penitentary. It focuses mainly on Emerald City, an experimental section of the prison where all the cells have glass '\n",
      " 'fronts and face inwards, so privacy is not high on the agenda. Em City is home to many..Aryans, Muslims, gangstas, '\n",
      " 'Latinos, Christians, Italians, Irish and more....so scuffles, death stares, dodgy dealings and shady agreements are '\n",
      " 'never far away.<br /><br />I would say the main appeal of the show is due to the fact that it goes where other shows '\n",
      " \"wouldn't dare. Forget pretty pictures painted for mainstream audiences, forget charm, forget romance...OZ doesn't \"\n",
      " \"mess around. The first episode I ever saw struck me as so nasty it was surreal, I couldn't say I was ready for it, \"\n",
      " 'but as I watched more, I developed a taste for Oz, and got accustomed to the high levels of graphic violence. Not '\n",
      " \"just violence, but injustice (crooked guards who'll be sold out for a nickel, inmates who'll kill on order and get \"\n",
      " 'away with it, well mannered, middle class inmates being turned into prison bitches due to their lack of street '\n",
      " 'skills or prison experience) Watching Oz, you may become comfortable with what is uncomfortable viewing....thats if '\n",
      " 'you can get in touch with your darker side.')\n"
     ]
    }
   ],
   "source": [
    "pprint(df['review'][0],width=120)"
   ]
  },
  {
   "cell_type": "code",
   "execution_count": 30,
   "metadata": {},
   "outputs": [
    {
     "name": "stderr",
     "output_type": "stream",
     "text": [
      "C:\\Users\\Gyanprakash\\AppData\\Local\\Temp\\ipykernel_5160\\704213473.py:2: MarkupResemblesLocatorWarning: The input looks more like a filename than markup. You may want to open this file and pass the filehandle into Beautiful Soup.\n",
      "  soup = BeautifulSoup(text, \"html.parser\")\n"
     ]
    }
   ],
   "source": [
    "df['review'] = df['review'].apply(func=remove_html_tags)"
   ]
  },
  {
   "cell_type": "code",
   "execution_count": 31,
   "metadata": {},
   "outputs": [
    {
     "name": "stdout",
     "output_type": "stream",
     "text": [
      "(16690,\n",
      " 'German emigree and uber-hambone actor Paul Muni who never saw a scene he didn\\'t want to chew up goes \"blackface\" to '\n",
      " 'play a humble Mexican immigrant living in Los Angeles and working his way up in the world. If this creaky vehicle '\n",
      " \"reminds anyone of Al Pacino's minstrel performance as an uncultured Cuban in the remake of SCARFACE, don't be too \"\n",
      " 'surprised. The characters are quite similar, and both get wildly pop-eyed when the script calls for it. Hispanics '\n",
      " \"everywhere should be greatly offended by Muni's over-the-top performance as this giddy Mexican living the American \"\n",
      " \"dream, consequences be damned. I guess Benicio DelToro's grandfather wasn't available. A young, bleached-blonde \"\n",
      " \"Bette Davis plays one of Muni's love interests; she eventually goes insane for love of Mr. Meh-hee-can Muni. An \"\n",
      " 'absolute hoot, Davis is the sole reason to watch this racially offensive claptrap. There is an absolutely delirious '\n",
      " 'near the end when Muni asks the gal of his dreams to marry him -- a white gal of breeding with one of those stilted, '\n",
      " 'stage-like \\'30s accents that Hollywood loved so much -- and she calls him a savage and a brute, of \"a different '\n",
      " 'tribe.\" Muni immediately transforms into Mr. Hyde and chases her to an untimely death. In the final scene, a '\n",
      " 'repentant Muni tells his sober-faced priest that he is going back to his own people, his own kind. End of movie. '\n",
      " \"Finis. That's all she wrote. Muni was said to have hired a gen-oo-ine Mexican as a chauffeur in order to study this \"\n",
      " \"exotic creature's speech pattern and physical habits. Yowza!\")\n"
     ]
    }
   ],
   "source": [
    "pprint(random_values(),width=120)"
   ]
  },
  {
   "cell_type": "markdown",
   "metadata": {},
   "source": [
    "## removing square brackets"
   ]
  },
  {
   "cell_type": "code",
   "execution_count": 32,
   "metadata": {},
   "outputs": [],
   "source": [
    "def remove_between_square_brackets(text):\n",
    "    return re.sub(r'\\[[^]]*\\]', '', text)"
   ]
  },
  {
   "cell_type": "code",
   "execution_count": 33,
   "metadata": {},
   "outputs": [
    {
     "name": "stdout",
     "output_type": "stream",
     "text": [
      "('One of the other reviewers has mentioned that after watching just 1 Oz '\n",
      " \"episode you'll be hooked. They are right, as this is exactly what happened \"\n",
      " 'with me.The first thing that struck me about Oz was its brutality and '\n",
      " 'unflinching scenes of violence, which set in right from the word GO. Trust '\n",
      " 'me, this is not a show for the faint hearted or timid. This show pulls no '\n",
      " 'punches with regards to drugs, sex or violence. Its is hardcore, in the '\n",
      " 'classic use of the word.It is called OZ as that is the nickname given to the '\n",
      " 'Oswald Maximum Security State Penitentary. It focuses mainly on Emerald '\n",
      " 'City, an experimental section of the prison where all the cells have glass '\n",
      " 'fronts and face inwards, so privacy is not high on the agenda. Em City is '\n",
      " 'home to many..Aryans, Muslims, gangstas, Latinos, Christians, Italians, '\n",
      " 'Irish and more....so scuffles, death stares, dodgy dealings and shady '\n",
      " 'agreements are never far away.I would say the main appeal of the show is due '\n",
      " \"to the fact that it goes where other shows wouldn't dare. Forget pretty \"\n",
      " 'pictures painted for mainstream audiences, forget charm, forget romance...OZ '\n",
      " \"doesn't mess around. The first episode I ever saw struck me as so nasty it \"\n",
      " \"was surreal, I couldn't say I was ready for it, but as I watched more, I \"\n",
      " 'developed a taste for Oz, and got accustomed to the high levels of graphic '\n",
      " \"violence. Not just violence, but injustice (crooked guards who'll be sold \"\n",
      " \"out for a nickel, inmates who'll kill on order and get away with it, well \"\n",
      " 'mannered, middle class inmates being turned into prison bitches due to their '\n",
      " 'lack of street skills or prison experience) Watching Oz, you may become '\n",
      " 'comfortable with what is uncomfortable viewing....thats if you can get in '\n",
      " 'touch with your darker side.')\n",
      "('One of the other reviewers has mentioned that after watching just 1 Oz '\n",
      " \"episode you'll be hooked. They are right, as this is exactly what happened \"\n",
      " 'with me.The first thing that struck me about Oz was its brutality and '\n",
      " 'unflinching scenes of violence, which set in right from the word GO. Trust '\n",
      " 'me, this is not a show for the faint hearted or timid. This show pulls no '\n",
      " 'punches with regards to drugs, sex or violence. Its is hardcore, in the '\n",
      " 'classic use of the word.It is called OZ as that is the nickname given to the '\n",
      " 'Oswald Maximum Security State Penitentary. It focuses mainly on Emerald '\n",
      " 'City, an experimental section of the prison where all the cells have glass '\n",
      " 'fronts and face inwards, so privacy is not high on the agenda. Em City is '\n",
      " 'home to many..Aryans, Muslims, gangstas, Latinos, Christians, Italians, '\n",
      " 'Irish and more....so scuffles, death stares, dodgy dealings and shady '\n",
      " 'agreements are never far away.I would say the main appeal of the show is due '\n",
      " \"to the fact that it goes where other shows wouldn't dare. Forget pretty \"\n",
      " 'pictures painted for mainstream audiences, forget charm, forget romance...OZ '\n",
      " \"doesn't mess around. The first episode I ever saw struck me as so nasty it \"\n",
      " \"was surreal, I couldn't say I was ready for it, but as I watched more, I \"\n",
      " 'developed a taste for Oz, and got accustomed to the high levels of graphic '\n",
      " \"violence. Not just violence, but injustice (crooked guards who'll be sold \"\n",
      " \"out for a nickel, inmates who'll kill on order and get away with it, well \"\n",
      " 'mannered, middle class inmates being turned into prison bitches due to their '\n",
      " 'lack of street skills or prison experience) Watching Oz, you may become '\n",
      " 'comfortable with what is uncomfortable viewing....thats if you can get in '\n",
      " 'touch with your darker side.')\n"
     ]
    }
   ],
   "source": [
    "pprint((df['review'][0]))\n",
    "pprint(remove_between_square_brackets(df['review'][0]))"
   ]
  },
  {
   "cell_type": "code",
   "execution_count": 34,
   "metadata": {},
   "outputs": [],
   "source": [
    "df['review'] = df['review'].apply(func=remove_between_square_brackets)"
   ]
  },
  {
   "cell_type": "code",
   "execution_count": 35,
   "metadata": {},
   "outputs": [
    {
     "name": "stdout",
     "output_type": "stream",
     "text": [
      "(3249,\n",
      " 'The movie starts off relatively well and seems to be getting somewhere when '\n",
      " 'an African American passenger sues an airline for negligence. There is one '\n",
      " 'scene in which his pet dog gets sucked into the engine and thats really a '\n",
      " 'sad thing. But the way it is portrayed makes it difficult for one to figure '\n",
      " 'out if that was an attempt at crude humor or really a tragedy to reflect on '\n",
      " 'the extent of negligence? After this point, they clearly ran out of ideas. '\n",
      " 'If you stuck around long enough, you will soon be treated with one of the '\n",
      " 'worst movies ever made. It is basically a highly racist sequence of smoking '\n",
      " 'dope, toilet humor, styling of each and every segment of the aircraft to '\n",
      " \"reflect African American pop culture and pretty much nothing else. You'd \"\n",
      " 'think that the only 3 white passengers onboard would lead to some hilarious '\n",
      " 'consequences but nothing of the same happens. They were basically just added '\n",
      " 'to show how badly they could initially be treated and later be accepted into '\n",
      " 'the hood if they behaved. Avoid.')\n"
     ]
    }
   ],
   "source": [
    "pprint(random_values())"
   ]
  },
  {
   "cell_type": "markdown",
   "metadata": {},
   "source": [
    "## remove URL's"
   ]
  },
  {
   "cell_type": "code",
   "execution_count": 36,
   "metadata": {},
   "outputs": [],
   "source": [
    "def remove_between_square_brackets(text):\n",
    "    return re.sub(r'http\\S+', '', text)"
   ]
  },
  {
   "cell_type": "code",
   "execution_count": 37,
   "metadata": {},
   "outputs": [],
   "source": [
    "df['review'] = df['review'].apply(remove_between_square_brackets)"
   ]
  },
  {
   "cell_type": "markdown",
   "metadata": {},
   "source": [
    "## lowercase the words"
   ]
  },
  {
   "cell_type": "code",
   "execution_count": 38,
   "metadata": {},
   "outputs": [],
   "source": [
    "df['review'] = df['review'].str.lower()"
   ]
  },
  {
   "cell_type": "code",
   "execution_count": 39,
   "metadata": {},
   "outputs": [
    {
     "name": "stdout",
     "output_type": "stream",
     "text": [
      "(15439,\n",
      " \"with the nazi rise to power in eastern europe in the late 1930's, charles \"\n",
      " 'chaplin turned his attention to creating a reaction to it. the catalyst may '\n",
      " 'well have been a propaganda publication referring to chaplin as a jewish '\n",
      " 'sympathizer. in the great dictator, chaplin created a dead-on parody of '\n",
      " 'hitler that is as funny as it is frightening at times. the film traces '\n",
      " \"hitler's experiences in the german army from world war i up to the present \"\n",
      " 'day. simultaneously, chaplin plays a jewish barber who dresses like the '\n",
      " 'tramp who comes out of a hospital after a long long time, only to discover '\n",
      " \"how different the world is under nazi rule.paulette goddard, chaplin's wife \"\n",
      " 'at the time, plays a young jewish girl whose family is oppressed in a jewish '\n",
      " 'ghetto. jack oakie has a great, oscar-nominated supporting role as a '\n",
      " \"mussolini look-alike (benzini napaloni) who gives chaplin's hitler \"\n",
      " 'character, adenoid hynkel, a lot of fits. henry daniell is his usual staid '\n",
      " 'self as garbitsch, chief adviser to adenoid hynkel. chaplin wrote and '\n",
      " 'directed the film and received oscar nominations for his screenplay and his '\n",
      " 'acting. the film was also nominated for best picture.chaplin made the film '\n",
      " 'under tremendous pressure for some obvious reasons and some not so well '\n",
      " 'known. he financed the entire film himself at great risk because of the '\n",
      " 'subject matter, and there were no other major films made regarding nazi '\n",
      " 'germany up to that time. the film spent about twenty-one months in '\n",
      " 'production with chaplin even rebuilding a set and re-shooting a scene to get '\n",
      " \"things right. by the time of the film's release in october of 1940, the war \"\n",
      " 'in europe was well under way with hitler conquering one country after '\n",
      " 'another, so the film became much more topical at its release than when '\n",
      " \"production first began.there isn't much plot in looking at the film in \"\n",
      " 'retrospect; the film seems more like a series of comedy sketches and/or '\n",
      " 'mishaps strung together to get to a purpose independent of the film itself. '\n",
      " 'several examples of this occur in the last third of the film with the '\n",
      " 'meeting between hynkel and napaloni. the scene is very very funny, but it '\n",
      " 'leads no where in terms of the plot. likewise, the escape of both the barber '\n",
      " 'and schultz simply leads to the mistaken identity of the barber for hynkel '\n",
      " 'in order to give chaplin (through the barber character) an opportunity to '\n",
      " 'pontificate to the audience at the end of the film. on the other hand, what '\n",
      " 'better way to make a point about the misplaced narcissism of aryan '\n",
      " 'superiority than to have a jewish barber mistaken for hynkel? still, the '\n",
      " 'film contains many high comic moments, such as the rally speech, the new war '\n",
      " 'developments (bulletproof uniforms, etc.), the dancing globe scene, the coin '\n",
      " 'in the pudding scene, and the entire scenario between hynkel and napaloni '\n",
      " '(including the barber chair scene) to highly recommend the film. one can '\n",
      " 'also not forget the risks chaplin took in making his first talking film, an '\n",
      " 'anti-nazi film, and financing the film himself. ***1/2 of 4 stars.')\n"
     ]
    }
   ],
   "source": [
    "pprint(random_values())"
   ]
  },
  {
   "cell_type": "markdown",
   "metadata": {},
   "source": [
    "## remove stopwords"
   ]
  },
  {
   "cell_type": "code",
   "execution_count": 43,
   "metadata": {},
   "outputs": [],
   "source": [
    "from nltk.corpus import stopwords"
   ]
  },
  {
   "cell_type": "code",
   "execution_count": 44,
   "metadata": {},
   "outputs": [],
   "source": [
    "stop = set(stopwords.words('english'))"
   ]
  },
  {
   "cell_type": "code",
   "execution_count": 45,
   "metadata": {},
   "outputs": [
    {
     "data": {
      "text/plain": [
       "{'a',\n",
       " 'about',\n",
       " 'above',\n",
       " 'after',\n",
       " 'again',\n",
       " 'against',\n",
       " 'ain',\n",
       " 'all',\n",
       " 'am',\n",
       " 'an',\n",
       " 'and',\n",
       " 'any',\n",
       " 'are',\n",
       " 'aren',\n",
       " \"aren't\",\n",
       " 'as',\n",
       " 'at',\n",
       " 'be',\n",
       " 'because',\n",
       " 'been',\n",
       " 'before',\n",
       " 'being',\n",
       " 'below',\n",
       " 'between',\n",
       " 'both',\n",
       " 'but',\n",
       " 'by',\n",
       " 'can',\n",
       " 'couldn',\n",
       " \"couldn't\",\n",
       " 'd',\n",
       " 'did',\n",
       " 'didn',\n",
       " \"didn't\",\n",
       " 'do',\n",
       " 'does',\n",
       " 'doesn',\n",
       " \"doesn't\",\n",
       " 'doing',\n",
       " 'don',\n",
       " \"don't\",\n",
       " 'down',\n",
       " 'during',\n",
       " 'each',\n",
       " 'few',\n",
       " 'for',\n",
       " 'from',\n",
       " 'further',\n",
       " 'had',\n",
       " 'hadn',\n",
       " \"hadn't\",\n",
       " 'has',\n",
       " 'hasn',\n",
       " \"hasn't\",\n",
       " 'have',\n",
       " 'haven',\n",
       " \"haven't\",\n",
       " 'having',\n",
       " 'he',\n",
       " 'her',\n",
       " 'here',\n",
       " 'hers',\n",
       " 'herself',\n",
       " 'him',\n",
       " 'himself',\n",
       " 'his',\n",
       " 'how',\n",
       " 'i',\n",
       " 'if',\n",
       " 'in',\n",
       " 'into',\n",
       " 'is',\n",
       " 'isn',\n",
       " \"isn't\",\n",
       " 'it',\n",
       " \"it's\",\n",
       " 'its',\n",
       " 'itself',\n",
       " 'just',\n",
       " 'll',\n",
       " 'm',\n",
       " 'ma',\n",
       " 'me',\n",
       " 'mightn',\n",
       " \"mightn't\",\n",
       " 'more',\n",
       " 'most',\n",
       " 'mustn',\n",
       " \"mustn't\",\n",
       " 'my',\n",
       " 'myself',\n",
       " 'needn',\n",
       " \"needn't\",\n",
       " 'no',\n",
       " 'nor',\n",
       " 'not',\n",
       " 'now',\n",
       " 'o',\n",
       " 'of',\n",
       " 'off',\n",
       " 'on',\n",
       " 'once',\n",
       " 'only',\n",
       " 'or',\n",
       " 'other',\n",
       " 'our',\n",
       " 'ours',\n",
       " 'ourselves',\n",
       " 'out',\n",
       " 'over',\n",
       " 'own',\n",
       " 're',\n",
       " 's',\n",
       " 'same',\n",
       " 'shan',\n",
       " \"shan't\",\n",
       " 'she',\n",
       " \"she's\",\n",
       " 'should',\n",
       " \"should've\",\n",
       " 'shouldn',\n",
       " \"shouldn't\",\n",
       " 'so',\n",
       " 'some',\n",
       " 'such',\n",
       " 't',\n",
       " 'than',\n",
       " 'that',\n",
       " \"that'll\",\n",
       " 'the',\n",
       " 'their',\n",
       " 'theirs',\n",
       " 'them',\n",
       " 'themselves',\n",
       " 'then',\n",
       " 'there',\n",
       " 'these',\n",
       " 'they',\n",
       " 'this',\n",
       " 'those',\n",
       " 'through',\n",
       " 'to',\n",
       " 'too',\n",
       " 'under',\n",
       " 'until',\n",
       " 'up',\n",
       " 've',\n",
       " 'very',\n",
       " 'was',\n",
       " 'wasn',\n",
       " \"wasn't\",\n",
       " 'we',\n",
       " 'were',\n",
       " 'weren',\n",
       " \"weren't\",\n",
       " 'what',\n",
       " 'when',\n",
       " 'where',\n",
       " 'which',\n",
       " 'while',\n",
       " 'who',\n",
       " 'whom',\n",
       " 'why',\n",
       " 'will',\n",
       " 'with',\n",
       " 'won',\n",
       " \"won't\",\n",
       " 'wouldn',\n",
       " \"wouldn't\",\n",
       " 'y',\n",
       " 'you',\n",
       " \"you'd\",\n",
       " \"you'll\",\n",
       " \"you're\",\n",
       " \"you've\",\n",
       " 'your',\n",
       " 'yours',\n",
       " 'yourself',\n",
       " 'yourselves'}"
      ]
     },
     "execution_count": 45,
     "metadata": {},
     "output_type": "execute_result"
    }
   ],
   "source": [
    "stop"
   ]
  },
  {
   "cell_type": "code",
   "execution_count": 46,
   "metadata": {},
   "outputs": [],
   "source": [
    "def remove_stopwords(text):\n",
    "    final_text = []\n",
    "    for i in text.split():\n",
    "        if i.strip().lower() not in stop and i.strip().lower().isalpha():\n",
    "            final_text.append(i.strip().lower())\n",
    "    return \" \".join(final_text)\n"
   ]
  },
  {
   "cell_type": "code",
   "execution_count": 47,
   "metadata": {},
   "outputs": [],
   "source": [
    "df['review'] = df['review'].apply(remove_stopwords)"
   ]
  },
  {
   "cell_type": "code",
   "execution_count": 48,
   "metadata": {},
   "outputs": [
    {
     "data": {
      "text/html": [
       "<div>\n",
       "<style scoped>\n",
       "    .dataframe tbody tr th:only-of-type {\n",
       "        vertical-align: middle;\n",
       "    }\n",
       "\n",
       "    .dataframe tbody tr th {\n",
       "        vertical-align: top;\n",
       "    }\n",
       "\n",
       "    .dataframe thead th {\n",
       "        text-align: right;\n",
       "    }\n",
       "</style>\n",
       "<table border=\"1\" class=\"dataframe\">\n",
       "  <thead>\n",
       "    <tr style=\"text-align: right;\">\n",
       "      <th></th>\n",
       "      <th>review</th>\n",
       "      <th>sentiment</th>\n",
       "    </tr>\n",
       "  </thead>\n",
       "  <tbody>\n",
       "    <tr>\n",
       "      <th>0</th>\n",
       "      <td>one reviewers mentioned watching oz episode ex...</td>\n",
       "      <td>positive</td>\n",
       "    </tr>\n",
       "    <tr>\n",
       "      <th>1</th>\n",
       "      <td>wonderful little filming technique fashion giv...</td>\n",
       "      <td>positive</td>\n",
       "    </tr>\n",
       "    <tr>\n",
       "      <th>2</th>\n",
       "      <td>thought wonderful way spend time hot summer si...</td>\n",
       "      <td>positive</td>\n",
       "    </tr>\n",
       "    <tr>\n",
       "      <th>3</th>\n",
       "      <td>basically family little boy thinks zombie clos...</td>\n",
       "      <td>negative</td>\n",
       "    </tr>\n",
       "    <tr>\n",
       "      <th>4</th>\n",
       "      <td>petter time visually stunning film mattei offe...</td>\n",
       "      <td>positive</td>\n",
       "    </tr>\n",
       "    <tr>\n",
       "      <th>...</th>\n",
       "      <td>...</td>\n",
       "      <td>...</td>\n",
       "    </tr>\n",
       "    <tr>\n",
       "      <th>49995</th>\n",
       "      <td>thought movie right good creative original exp...</td>\n",
       "      <td>positive</td>\n",
       "    </tr>\n",
       "    <tr>\n",
       "      <th>49996</th>\n",
       "      <td>bad bad bad idiotic annoying porn groove sound...</td>\n",
       "      <td>negative</td>\n",
       "    </tr>\n",
       "    <tr>\n",
       "      <th>49997</th>\n",
       "      <td>catholic taught parochial elementary schools t...</td>\n",
       "      <td>negative</td>\n",
       "    </tr>\n",
       "    <tr>\n",
       "      <th>49998</th>\n",
       "      <td>going disagree previous comment side maltin se...</td>\n",
       "      <td>negative</td>\n",
       "    </tr>\n",
       "    <tr>\n",
       "      <th>49999</th>\n",
       "      <td>one expects star trek movies high fans expect ...</td>\n",
       "      <td>negative</td>\n",
       "    </tr>\n",
       "  </tbody>\n",
       "</table>\n",
       "<p>50000 rows × 2 columns</p>\n",
       "</div>"
      ],
      "text/plain": [
       "                                                  review sentiment\n",
       "0      one reviewers mentioned watching oz episode ex...  positive\n",
       "1      wonderful little filming technique fashion giv...  positive\n",
       "2      thought wonderful way spend time hot summer si...  positive\n",
       "3      basically family little boy thinks zombie clos...  negative\n",
       "4      petter time visually stunning film mattei offe...  positive\n",
       "...                                                  ...       ...\n",
       "49995  thought movie right good creative original exp...  positive\n",
       "49996  bad bad bad idiotic annoying porn groove sound...  negative\n",
       "49997  catholic taught parochial elementary schools t...  negative\n",
       "49998  going disagree previous comment side maltin se...  negative\n",
       "49999  one expects star trek movies high fans expect ...  negative\n",
       "\n",
       "[50000 rows x 2 columns]"
      ]
     },
     "execution_count": 48,
     "metadata": {},
     "output_type": "execute_result"
    }
   ],
   "source": [
    "df"
   ]
  },
  {
   "cell_type": "markdown",
   "metadata": {},
   "source": [
    "## encoding the sentiment feature"
   ]
  },
  {
   "cell_type": "code",
   "execution_count": 49,
   "metadata": {},
   "outputs": [],
   "source": [
    "df.sentiment.replace(\"positive\" , 1 , inplace = True)\n",
    "df.sentiment.replace(\"negative\" , 0 , inplace = True)"
   ]
  },
  {
   "cell_type": "code",
   "execution_count": 50,
   "metadata": {},
   "outputs": [
    {
     "data": {
      "text/html": [
       "<div>\n",
       "<style scoped>\n",
       "    .dataframe tbody tr th:only-of-type {\n",
       "        vertical-align: middle;\n",
       "    }\n",
       "\n",
       "    .dataframe tbody tr th {\n",
       "        vertical-align: top;\n",
       "    }\n",
       "\n",
       "    .dataframe thead th {\n",
       "        text-align: right;\n",
       "    }\n",
       "</style>\n",
       "<table border=\"1\" class=\"dataframe\">\n",
       "  <thead>\n",
       "    <tr style=\"text-align: right;\">\n",
       "      <th></th>\n",
       "      <th>review</th>\n",
       "      <th>sentiment</th>\n",
       "    </tr>\n",
       "  </thead>\n",
       "  <tbody>\n",
       "    <tr>\n",
       "      <th>0</th>\n",
       "      <td>one reviewers mentioned watching oz episode ex...</td>\n",
       "      <td>1</td>\n",
       "    </tr>\n",
       "    <tr>\n",
       "      <th>1</th>\n",
       "      <td>wonderful little filming technique fashion giv...</td>\n",
       "      <td>1</td>\n",
       "    </tr>\n",
       "    <tr>\n",
       "      <th>2</th>\n",
       "      <td>thought wonderful way spend time hot summer si...</td>\n",
       "      <td>1</td>\n",
       "    </tr>\n",
       "    <tr>\n",
       "      <th>3</th>\n",
       "      <td>basically family little boy thinks zombie clos...</td>\n",
       "      <td>0</td>\n",
       "    </tr>\n",
       "    <tr>\n",
       "      <th>4</th>\n",
       "      <td>petter time visually stunning film mattei offe...</td>\n",
       "      <td>1</td>\n",
       "    </tr>\n",
       "    <tr>\n",
       "      <th>...</th>\n",
       "      <td>...</td>\n",
       "      <td>...</td>\n",
       "    </tr>\n",
       "    <tr>\n",
       "      <th>49995</th>\n",
       "      <td>thought movie right good creative original exp...</td>\n",
       "      <td>1</td>\n",
       "    </tr>\n",
       "    <tr>\n",
       "      <th>49996</th>\n",
       "      <td>bad bad bad idiotic annoying porn groove sound...</td>\n",
       "      <td>0</td>\n",
       "    </tr>\n",
       "    <tr>\n",
       "      <th>49997</th>\n",
       "      <td>catholic taught parochial elementary schools t...</td>\n",
       "      <td>0</td>\n",
       "    </tr>\n",
       "    <tr>\n",
       "      <th>49998</th>\n",
       "      <td>going disagree previous comment side maltin se...</td>\n",
       "      <td>0</td>\n",
       "    </tr>\n",
       "    <tr>\n",
       "      <th>49999</th>\n",
       "      <td>one expects star trek movies high fans expect ...</td>\n",
       "      <td>0</td>\n",
       "    </tr>\n",
       "  </tbody>\n",
       "</table>\n",
       "<p>50000 rows × 2 columns</p>\n",
       "</div>"
      ],
      "text/plain": [
       "                                                  review  sentiment\n",
       "0      one reviewers mentioned watching oz episode ex...          1\n",
       "1      wonderful little filming technique fashion giv...          1\n",
       "2      thought wonderful way spend time hot summer si...          1\n",
       "3      basically family little boy thinks zombie clos...          0\n",
       "4      petter time visually stunning film mattei offe...          1\n",
       "...                                                  ...        ...\n",
       "49995  thought movie right good creative original exp...          1\n",
       "49996  bad bad bad idiotic annoying porn groove sound...          0\n",
       "49997  catholic taught parochial elementary schools t...          0\n",
       "49998  going disagree previous comment side maltin se...          0\n",
       "49999  one expects star trek movies high fans expect ...          0\n",
       "\n",
       "[50000 rows x 2 columns]"
      ]
     },
     "execution_count": 50,
     "metadata": {},
     "output_type": "execute_result"
    }
   ],
   "source": [
    "df"
   ]
  },
  {
   "cell_type": "markdown",
   "metadata": {},
   "source": [
    "## saving the cleaned data."
   ]
  },
  {
   "cell_type": "code",
   "execution_count": 51,
   "metadata": {},
   "outputs": [],
   "source": [
    "df.to_csv('sentiment-analysis-dataset/IMDB_clean_data.csv',index=True)"
   ]
  },
  {
   "cell_type": "code",
   "execution_count": 61,
   "metadata": {},
   "outputs": [
    {
     "name": "stdout",
     "output_type": "stream",
     "text": [
      "(1353,\n",
      " 'movie tries run away typical fighting obliged defend bad german war talking much referring war nevertheless would like see german movie '\n",
      " 'would something extremity come see das say excluding german movies best depicting world war german easily see german hierarchical '\n",
      " 'different ones us movie tries get real sight doubt people would choose one movie depicting sure would american enemy say even best '\n",
      " 'soldiers given conditions may regard lives instead goes end see von paulus giving')\n"
     ]
    }
   ],
   "source": [
    "pprint(random_values(),width=140)"
   ]
  },
  {
   "cell_type": "code",
   "execution_count": null,
   "metadata": {},
   "outputs": [],
   "source": []
  },
  {
   "cell_type": "code",
   "execution_count": null,
   "metadata": {},
   "outputs": [],
   "source": []
  },
  {
   "cell_type": "code",
   "execution_count": null,
   "metadata": {},
   "outputs": [],
   "source": []
  },
  {
   "cell_type": "code",
   "execution_count": null,
   "metadata": {},
   "outputs": [],
   "source": []
  }
 ],
 "metadata": {
  "kernelspec": {
   "display_name": "Python 3",
   "language": "python",
   "name": "python3"
  },
  "language_info": {
   "codemirror_mode": {
    "name": "ipython",
    "version": 3
   },
   "file_extension": ".py",
   "mimetype": "text/x-python",
   "name": "python",
   "nbconvert_exporter": "python",
   "pygments_lexer": "ipython3",
   "version": "3.11.3"
  },
  "orig_nbformat": 4
 },
 "nbformat": 4,
 "nbformat_minor": 2
}
