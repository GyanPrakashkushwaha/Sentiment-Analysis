{
 "cells": [
  {
   "cell_type": "code",
   "execution_count": 6,
   "metadata": {},
   "outputs": [],
   "source": [
    "import pandas as pd\n",
    "import numpy as np\n",
    "from pprint import pprint\n",
    "from bs4 import BeautifulSoup\n",
    "import re"
   ]
  },
  {
   "cell_type": "code",
   "execution_count": 7,
   "metadata": {},
   "outputs": [],
   "source": [
    "import os\n",
    "os.getcwd()\n",
    "os.chdir('d:\\\\vscode_machineLearning\\\\internship\\\\sentiment-Analysis-fellowship.ai')"
   ]
  },
  {
   "cell_type": "code",
   "execution_count": 8,
   "metadata": {},
   "outputs": [],
   "source": [
    "df = pd.read_csv('sentiment-analysis-dataset/IMDB Dataset.csv')"
   ]
  },
  {
   "cell_type": "code",
   "execution_count": 9,
   "metadata": {},
   "outputs": [
    {
     "data": {
      "text/html": [
       "<div>\n",
       "<style scoped>\n",
       "    .dataframe tbody tr th:only-of-type {\n",
       "        vertical-align: middle;\n",
       "    }\n",
       "\n",
       "    .dataframe tbody tr th {\n",
       "        vertical-align: top;\n",
       "    }\n",
       "\n",
       "    .dataframe thead th {\n",
       "        text-align: right;\n",
       "    }\n",
       "</style>\n",
       "<table border=\"1\" class=\"dataframe\">\n",
       "  <thead>\n",
       "    <tr style=\"text-align: right;\">\n",
       "      <th></th>\n",
       "      <th>review</th>\n",
       "      <th>sentiment</th>\n",
       "    </tr>\n",
       "  </thead>\n",
       "  <tbody>\n",
       "    <tr>\n",
       "      <th>27514</th>\n",
       "      <td>Spawned by the same Monty Berman / Dennis Spoo...</td>\n",
       "      <td>positive</td>\n",
       "    </tr>\n",
       "    <tr>\n",
       "      <th>43874</th>\n",
       "      <td>A sweeping and deeply moving love story featur...</td>\n",
       "      <td>positive</td>\n",
       "    </tr>\n",
       "    <tr>\n",
       "      <th>42781</th>\n",
       "      <td>This animated short is a remake of one of Tex ...</td>\n",
       "      <td>positive</td>\n",
       "    </tr>\n",
       "  </tbody>\n",
       "</table>\n",
       "</div>"
      ],
      "text/plain": [
       "                                                  review sentiment\n",
       "27514  Spawned by the same Monty Berman / Dennis Spoo...  positive\n",
       "43874  A sweeping and deeply moving love story featur...  positive\n",
       "42781  This animated short is a remake of one of Tex ...  positive"
      ]
     },
     "execution_count": 9,
     "metadata": {},
     "output_type": "execute_result"
    }
   ],
   "source": [
    "df.sample(3)"
   ]
  },
  {
   "cell_type": "code",
   "execution_count": 10,
   "metadata": {},
   "outputs": [],
   "source": [
    "def random_values(feature_name='review',total=6):\n",
    "    for i in range(0,total):\n",
    "        index = np.random.randint(df.shape[0])\n",
    "        return index,df[feature_name].iloc[index]\n",
    "        # print(])"
   ]
  },
  {
   "cell_type": "code",
   "execution_count": 11,
   "metadata": {},
   "outputs": [
    {
     "data": {
      "text/html": [
       "<div>\n",
       "<style scoped>\n",
       "    .dataframe tbody tr th:only-of-type {\n",
       "        vertical-align: middle;\n",
       "    }\n",
       "\n",
       "    .dataframe tbody tr th {\n",
       "        vertical-align: top;\n",
       "    }\n",
       "\n",
       "    .dataframe thead th {\n",
       "        text-align: right;\n",
       "    }\n",
       "</style>\n",
       "<table border=\"1\" class=\"dataframe\">\n",
       "  <thead>\n",
       "    <tr style=\"text-align: right;\">\n",
       "      <th></th>\n",
       "      <th>review</th>\n",
       "      <th>sentiment</th>\n",
       "    </tr>\n",
       "  </thead>\n",
       "  <tbody>\n",
       "    <tr>\n",
       "      <th>count</th>\n",
       "      <td>50000</td>\n",
       "      <td>50000</td>\n",
       "    </tr>\n",
       "    <tr>\n",
       "      <th>unique</th>\n",
       "      <td>49582</td>\n",
       "      <td>2</td>\n",
       "    </tr>\n",
       "    <tr>\n",
       "      <th>top</th>\n",
       "      <td>Loved today's show!!! It was a variety and not...</td>\n",
       "      <td>positive</td>\n",
       "    </tr>\n",
       "    <tr>\n",
       "      <th>freq</th>\n",
       "      <td>5</td>\n",
       "      <td>25000</td>\n",
       "    </tr>\n",
       "  </tbody>\n",
       "</table>\n",
       "</div>"
      ],
      "text/plain": [
       "                                                   review sentiment\n",
       "count                                               50000     50000\n",
       "unique                                              49582         2\n",
       "top     Loved today's show!!! It was a variety and not...  positive\n",
       "freq                                                    5     25000"
      ]
     },
     "execution_count": 11,
     "metadata": {},
     "output_type": "execute_result"
    }
   ],
   "source": [
    "df.describe()"
   ]
  },
  {
   "cell_type": "code",
   "execution_count": 12,
   "metadata": {},
   "outputs": [
    {
     "name": "stdout",
     "output_type": "stream",
     "text": [
      "(22053,\n",
      " 'It may not be Oscar material, however this was a very funny film. I was '\n",
      " 'always a fan of Eddie (Edmondson) & Richie (Mayall). \"Bottom\" & \"Young Ones\" '\n",
      " \"were legendary TV series', and it was about time they made a film. Some of \"\n",
      " 'the stuff they get up to is brilliant, from the pencil is the rear-end, to '\n",
      " 'the rubber sex-pants, as well was the infamous line that Richie says when he '\n",
      " 'falls and a candle he is carrying goes into his eye. He says to Eddie '\n",
      " '\"Candle In The Eye, Candle In The Eye\", and Eddie been the simpleton that he '\n",
      " \"is, sticks the candle he's carrying into his eye. Can't forget when Eddie is \"\n",
      " 'on his motorbike, and he needs to urinate.... It was a great comedy, not to '\n",
      " 'be taken seriously at all, but the film lacked with an ridicilous ending.<br '\n",
      " '/><br /> Overall, a exellent comedy, full of laughs, and lots of fake green '\n",
      " 'vomit. A 9/10.<br /><br />')\n"
     ]
    }
   ],
   "source": [
    "pprint(random_values())"
   ]
  },
  {
   "cell_type": "markdown",
   "metadata": {},
   "source": [
    "## remove html tags"
   ]
  },
  {
   "cell_type": "code",
   "execution_count": 13,
   "metadata": {},
   "outputs": [],
   "source": [
    "def remove_html_tags(text):\n",
    "    soup = BeautifulSoup(text, \"html.parser\")\n",
    "    return soup.get_text()"
   ]
  },
  {
   "cell_type": "code",
   "execution_count": 14,
   "metadata": {},
   "outputs": [
    {
     "name": "stdout",
     "output_type": "stream",
     "text": [
      "(\"One of the other reviewers has mentioned that after watching just 1 Oz episode you'll be hooked. They are right, as \"\n",
      " 'this is exactly what happened with me.The first thing that struck me about Oz was its brutality and unflinching '\n",
      " 'scenes of violence, which set in right from the word GO. Trust me, this is not a show for the faint hearted or '\n",
      " 'timid. This show pulls no punches with regards to drugs, sex or violence. Its is hardcore, in the classic use of the '\n",
      " 'word.It is called OZ as that is the nickname given to the Oswald Maximum Security State Penitentary. It focuses '\n",
      " 'mainly on Emerald City, an experimental section of the prison where all the cells have glass fronts and face '\n",
      " 'inwards, so privacy is not high on the agenda. Em City is home to many..Aryans, Muslims, gangstas, Latinos, '\n",
      " 'Christians, Italians, Irish and more....so scuffles, death stares, dodgy dealings and shady agreements are never far '\n",
      " \"away.I would say the main appeal of the show is due to the fact that it goes where other shows wouldn't dare. Forget \"\n",
      " \"pretty pictures painted for mainstream audiences, forget charm, forget romance...OZ doesn't mess around. The first \"\n",
      " \"episode I ever saw struck me as so nasty it was surreal, I couldn't say I was ready for it, but as I watched more, I \"\n",
      " 'developed a taste for Oz, and got accustomed to the high levels of graphic violence. Not just violence, but '\n",
      " \"injustice (crooked guards who'll be sold out for a nickel, inmates who'll kill on order and get away with it, well \"\n",
      " 'mannered, middle class inmates being turned into prison bitches due to their lack of street skills or prison '\n",
      " 'experience) Watching Oz, you may become comfortable with what is uncomfortable viewing....thats if you can get in '\n",
      " 'touch with your darker side.')\n"
     ]
    }
   ],
   "source": [
    "pprint(remove_html_tags(df['review'][0]),width=120)"
   ]
  },
  {
   "cell_type": "code",
   "execution_count": 15,
   "metadata": {},
   "outputs": [
    {
     "name": "stdout",
     "output_type": "stream",
     "text": [
      "(\"One of the other reviewers has mentioned that after watching just 1 Oz episode you'll be hooked. They are right, as \"\n",
      " 'this is exactly what happened with me.<br /><br />The first thing that struck me about Oz was its brutality and '\n",
      " 'unflinching scenes of violence, which set in right from the word GO. Trust me, this is not a show for the faint '\n",
      " 'hearted or timid. This show pulls no punches with regards to drugs, sex or violence. Its is hardcore, in the classic '\n",
      " 'use of the word.<br /><br />It is called OZ as that is the nickname given to the Oswald Maximum Security State '\n",
      " 'Penitentary. It focuses mainly on Emerald City, an experimental section of the prison where all the cells have glass '\n",
      " 'fronts and face inwards, so privacy is not high on the agenda. Em City is home to many..Aryans, Muslims, gangstas, '\n",
      " 'Latinos, Christians, Italians, Irish and more....so scuffles, death stares, dodgy dealings and shady agreements are '\n",
      " 'never far away.<br /><br />I would say the main appeal of the show is due to the fact that it goes where other shows '\n",
      " \"wouldn't dare. Forget pretty pictures painted for mainstream audiences, forget charm, forget romance...OZ doesn't \"\n",
      " \"mess around. The first episode I ever saw struck me as so nasty it was surreal, I couldn't say I was ready for it, \"\n",
      " 'but as I watched more, I developed a taste for Oz, and got accustomed to the high levels of graphic violence. Not '\n",
      " \"just violence, but injustice (crooked guards who'll be sold out for a nickel, inmates who'll kill on order and get \"\n",
      " 'away with it, well mannered, middle class inmates being turned into prison bitches due to their lack of street '\n",
      " 'skills or prison experience) Watching Oz, you may become comfortable with what is uncomfortable viewing....thats if '\n",
      " 'you can get in touch with your darker side.')\n"
     ]
    }
   ],
   "source": [
    "pprint(df['review'][0],width=120)"
   ]
  },
  {
   "cell_type": "code",
   "execution_count": 16,
   "metadata": {},
   "outputs": [
    {
     "name": "stderr",
     "output_type": "stream",
     "text": [
      "C:\\Users\\Gyanprakash\\AppData\\Local\\Temp\\ipykernel_17284\\704213473.py:2: MarkupResemblesLocatorWarning: The input looks more like a filename than markup. You may want to open this file and pass the filehandle into Beautiful Soup.\n",
      "  soup = BeautifulSoup(text, \"html.parser\")\n"
     ]
    }
   ],
   "source": [
    "df['review'] = df['review'].apply(func=remove_html_tags)"
   ]
  },
  {
   "cell_type": "code",
   "execution_count": 17,
   "metadata": {},
   "outputs": [
    {
     "name": "stdout",
     "output_type": "stream",
     "text": [
      "(35208,\n",
      " 'By watching this film you will not only explore the \"Turkish music\" but will also explore the city of Istanbul with '\n",
      " 'wonderful pictures and scenes from all over the important regions of the city.There are lots of delightful '\n",
      " 'conversations with all sorts of musicians and their thoughts about music,culture.There is also discussions about the '\n",
      " 'mixture of east and west like Istanbul has,how they make their music, how do they see themselves comparing to other '\n",
      " \"country's musicians.It consists the music of Ceza,Duman,Baba Zula,Aynur,Müzeyyan Senar,Orhan Gencebay..The Turkish \"\n",
      " 'Queen of Music Sezen Aksu...An important work of art!')\n"
     ]
    }
   ],
   "source": [
    "pprint(random_values(),width=120)"
   ]
  },
  {
   "cell_type": "markdown",
   "metadata": {},
   "source": [
    "## removing square brackets"
   ]
  },
  {
   "cell_type": "code",
   "execution_count": 18,
   "metadata": {},
   "outputs": [],
   "source": [
    "def remove_between_square_brackets(text):\n",
    "    return re.sub(r'\\[[^]]*\\]', '', text)"
   ]
  },
  {
   "cell_type": "code",
   "execution_count": 19,
   "metadata": {},
   "outputs": [
    {
     "name": "stdout",
     "output_type": "stream",
     "text": [
      "('One of the other reviewers has mentioned that after watching just 1 Oz '\n",
      " \"episode you'll be hooked. They are right, as this is exactly what happened \"\n",
      " 'with me.The first thing that struck me about Oz was its brutality and '\n",
      " 'unflinching scenes of violence, which set in right from the word GO. Trust '\n",
      " 'me, this is not a show for the faint hearted or timid. This show pulls no '\n",
      " 'punches with regards to drugs, sex or violence. Its is hardcore, in the '\n",
      " 'classic use of the word.It is called OZ as that is the nickname given to the '\n",
      " 'Oswald Maximum Security State Penitentary. It focuses mainly on Emerald '\n",
      " 'City, an experimental section of the prison where all the cells have glass '\n",
      " 'fronts and face inwards, so privacy is not high on the agenda. Em City is '\n",
      " 'home to many..Aryans, Muslims, gangstas, Latinos, Christians, Italians, '\n",
      " 'Irish and more....so scuffles, death stares, dodgy dealings and shady '\n",
      " 'agreements are never far away.I would say the main appeal of the show is due '\n",
      " \"to the fact that it goes where other shows wouldn't dare. Forget pretty \"\n",
      " 'pictures painted for mainstream audiences, forget charm, forget romance...OZ '\n",
      " \"doesn't mess around. The first episode I ever saw struck me as so nasty it \"\n",
      " \"was surreal, I couldn't say I was ready for it, but as I watched more, I \"\n",
      " 'developed a taste for Oz, and got accustomed to the high levels of graphic '\n",
      " \"violence. Not just violence, but injustice (crooked guards who'll be sold \"\n",
      " \"out for a nickel, inmates who'll kill on order and get away with it, well \"\n",
      " 'mannered, middle class inmates being turned into prison bitches due to their '\n",
      " 'lack of street skills or prison experience) Watching Oz, you may become '\n",
      " 'comfortable with what is uncomfortable viewing....thats if you can get in '\n",
      " 'touch with your darker side.')\n",
      "('One of the other reviewers has mentioned that after watching just 1 Oz '\n",
      " \"episode you'll be hooked. They are right, as this is exactly what happened \"\n",
      " 'with me.The first thing that struck me about Oz was its brutality and '\n",
      " 'unflinching scenes of violence, which set in right from the word GO. Trust '\n",
      " 'me, this is not a show for the faint hearted or timid. This show pulls no '\n",
      " 'punches with regards to drugs, sex or violence. Its is hardcore, in the '\n",
      " 'classic use of the word.It is called OZ as that is the nickname given to the '\n",
      " 'Oswald Maximum Security State Penitentary. It focuses mainly on Emerald '\n",
      " 'City, an experimental section of the prison where all the cells have glass '\n",
      " 'fronts and face inwards, so privacy is not high on the agenda. Em City is '\n",
      " 'home to many..Aryans, Muslims, gangstas, Latinos, Christians, Italians, '\n",
      " 'Irish and more....so scuffles, death stares, dodgy dealings and shady '\n",
      " 'agreements are never far away.I would say the main appeal of the show is due '\n",
      " \"to the fact that it goes where other shows wouldn't dare. Forget pretty \"\n",
      " 'pictures painted for mainstream audiences, forget charm, forget romance...OZ '\n",
      " \"doesn't mess around. The first episode I ever saw struck me as so nasty it \"\n",
      " \"was surreal, I couldn't say I was ready for it, but as I watched more, I \"\n",
      " 'developed a taste for Oz, and got accustomed to the high levels of graphic '\n",
      " \"violence. Not just violence, but injustice (crooked guards who'll be sold \"\n",
      " \"out for a nickel, inmates who'll kill on order and get away with it, well \"\n",
      " 'mannered, middle class inmates being turned into prison bitches due to their '\n",
      " 'lack of street skills or prison experience) Watching Oz, you may become '\n",
      " 'comfortable with what is uncomfortable viewing....thats if you can get in '\n",
      " 'touch with your darker side.')\n"
     ]
    }
   ],
   "source": [
    "pprint((df['review'][0]))\n",
    "pprint(remove_between_square_brackets(df['review'][0]))"
   ]
  },
  {
   "cell_type": "code",
   "execution_count": 20,
   "metadata": {},
   "outputs": [],
   "source": [
    "df['review'] = df['review'].apply(func=remove_between_square_brackets)"
   ]
  },
  {
   "cell_type": "code",
   "execution_count": 21,
   "metadata": {},
   "outputs": [
    {
     "name": "stdout",
     "output_type": "stream",
     "text": [
      "(15367,\n",
      " 'The rise of punk music was scarcely documented on film and most people tend '\n",
      " 'to focus on the happenings of other cities such as London or New York. '\n",
      " 'Penelope Spheeris managed to preserve a snapshot of Los Angeles circa '\n",
      " \"'79-'81 which proves a vibrant and diverse art/music community had spawned \"\n",
      " \"which rivalled any other. To some, the bands read like a who's who of now \"\n",
      " 'legendary American punk; Black Flag, X, Circle Jerks, Germs, Fear. Purists '\n",
      " 'argue that vital bands were missed (Weirdos, Zeros, Flesheaters) and that '\n",
      " 'the movie was the cause of an onslaught of suburban poseurs and macho '\n",
      " 'violence. However, the issues touched upon in the film remain relevant, the '\n",
      " 'intensity of the music remains unmatched and the influence continues to be '\n",
      " 'seen and heard in the cliques/fashions of today.')\n"
     ]
    }
   ],
   "source": [
    "pprint(random_values())"
   ]
  },
  {
   "cell_type": "markdown",
   "metadata": {},
   "source": [
    "## remove URL's"
   ]
  },
  {
   "cell_type": "code",
   "execution_count": 22,
   "metadata": {},
   "outputs": [],
   "source": [
    "def remove_between_square_brackets(text):\n",
    "    return re.sub(r'http\\S+', '', text)"
   ]
  },
  {
   "cell_type": "code",
   "execution_count": 23,
   "metadata": {},
   "outputs": [],
   "source": [
    "df['review'] = df['review'].apply(remove_between_square_brackets)"
   ]
  },
  {
   "cell_type": "markdown",
   "metadata": {},
   "source": [
    "## lowercase the words"
   ]
  },
  {
   "cell_type": "code",
   "execution_count": 24,
   "metadata": {},
   "outputs": [],
   "source": [
    "df['review'] = df['review'].str.lower()"
   ]
  },
  {
   "cell_type": "code",
   "execution_count": 25,
   "metadata": {},
   "outputs": [
    {
     "name": "stdout",
     "output_type": "stream",
     "text": [
      "(7008,\n",
      " \"i've been intrigued by this film for a while, in part because of the \"\n",
      " 'extremely high score here on imdb -- a 9.0 average with over 300 votes gives '\n",
      " 'it the highest rating of any accessible silent film! how had i not heard of '\n",
      " \"this film before this website? well, you can't always trust the ratings. \"\n",
      " 'this is actually a very good film, preserved quite well if the fine vhs '\n",
      " 'transfer i rented is any indication -- excellent acting by the principals, '\n",
      " 'especially william haines as brown, and good location work at cambridge with '\n",
      " 'some fine action footage in the climactic harvard/yale football game -- but '\n",
      " 'the story must have seemed a hoary chestnut even in 1926. obnoxious, '\n",
      " 'self-centered and charismatic guy goes to school and gets put in his place, '\n",
      " 'becoming in the process a caring, self-sacrificing friend; i doubt people in '\n",
      " '1926 found much that was really exciting in the last few reels, the '\n",
      " 'predictability factor is high. still, it starts out very well, and is '\n",
      " 'certainly deserving of being remembered, if not praised to the heavens. '\n",
      " 'maybe the previous 350 voters are mostly harvard men...edit now 600+ voters '\n",
      " 'and the score has actually climbed to 9.2! seriously, folks, there is '\n",
      " 'ballot-stuffing going on here - i defy anybody to explain why this is a '\n",
      " 'better film than \"metropolis\" or \"the general\"!')\n"
     ]
    }
   ],
   "source": [
    "pprint(random_values())"
   ]
  },
  {
   "cell_type": "markdown",
   "metadata": {},
   "source": [
    "## remove stopwords"
   ]
  },
  {
   "cell_type": "code",
   "execution_count": 26,
   "metadata": {},
   "outputs": [],
   "source": [
    "from nltk.corpus import stopwords"
   ]
  },
  {
   "cell_type": "code",
   "execution_count": 27,
   "metadata": {},
   "outputs": [],
   "source": [
    "stop = set(stopwords.words('english'))"
   ]
  },
  {
   "cell_type": "code",
   "execution_count": 28,
   "metadata": {},
   "outputs": [
    {
     "data": {
      "text/plain": [
       "{'a',\n",
       " 'about',\n",
       " 'above',\n",
       " 'after',\n",
       " 'again',\n",
       " 'against',\n",
       " 'ain',\n",
       " 'all',\n",
       " 'am',\n",
       " 'an',\n",
       " 'and',\n",
       " 'any',\n",
       " 'are',\n",
       " 'aren',\n",
       " \"aren't\",\n",
       " 'as',\n",
       " 'at',\n",
       " 'be',\n",
       " 'because',\n",
       " 'been',\n",
       " 'before',\n",
       " 'being',\n",
       " 'below',\n",
       " 'between',\n",
       " 'both',\n",
       " 'but',\n",
       " 'by',\n",
       " 'can',\n",
       " 'couldn',\n",
       " \"couldn't\",\n",
       " 'd',\n",
       " 'did',\n",
       " 'didn',\n",
       " \"didn't\",\n",
       " 'do',\n",
       " 'does',\n",
       " 'doesn',\n",
       " \"doesn't\",\n",
       " 'doing',\n",
       " 'don',\n",
       " \"don't\",\n",
       " 'down',\n",
       " 'during',\n",
       " 'each',\n",
       " 'few',\n",
       " 'for',\n",
       " 'from',\n",
       " 'further',\n",
       " 'had',\n",
       " 'hadn',\n",
       " \"hadn't\",\n",
       " 'has',\n",
       " 'hasn',\n",
       " \"hasn't\",\n",
       " 'have',\n",
       " 'haven',\n",
       " \"haven't\",\n",
       " 'having',\n",
       " 'he',\n",
       " 'her',\n",
       " 'here',\n",
       " 'hers',\n",
       " 'herself',\n",
       " 'him',\n",
       " 'himself',\n",
       " 'his',\n",
       " 'how',\n",
       " 'i',\n",
       " 'if',\n",
       " 'in',\n",
       " 'into',\n",
       " 'is',\n",
       " 'isn',\n",
       " \"isn't\",\n",
       " 'it',\n",
       " \"it's\",\n",
       " 'its',\n",
       " 'itself',\n",
       " 'just',\n",
       " 'll',\n",
       " 'm',\n",
       " 'ma',\n",
       " 'me',\n",
       " 'mightn',\n",
       " \"mightn't\",\n",
       " 'more',\n",
       " 'most',\n",
       " 'mustn',\n",
       " \"mustn't\",\n",
       " 'my',\n",
       " 'myself',\n",
       " 'needn',\n",
       " \"needn't\",\n",
       " 'no',\n",
       " 'nor',\n",
       " 'not',\n",
       " 'now',\n",
       " 'o',\n",
       " 'of',\n",
       " 'off',\n",
       " 'on',\n",
       " 'once',\n",
       " 'only',\n",
       " 'or',\n",
       " 'other',\n",
       " 'our',\n",
       " 'ours',\n",
       " 'ourselves',\n",
       " 'out',\n",
       " 'over',\n",
       " 'own',\n",
       " 're',\n",
       " 's',\n",
       " 'same',\n",
       " 'shan',\n",
       " \"shan't\",\n",
       " 'she',\n",
       " \"she's\",\n",
       " 'should',\n",
       " \"should've\",\n",
       " 'shouldn',\n",
       " \"shouldn't\",\n",
       " 'so',\n",
       " 'some',\n",
       " 'such',\n",
       " 't',\n",
       " 'than',\n",
       " 'that',\n",
       " \"that'll\",\n",
       " 'the',\n",
       " 'their',\n",
       " 'theirs',\n",
       " 'them',\n",
       " 'themselves',\n",
       " 'then',\n",
       " 'there',\n",
       " 'these',\n",
       " 'they',\n",
       " 'this',\n",
       " 'those',\n",
       " 'through',\n",
       " 'to',\n",
       " 'too',\n",
       " 'under',\n",
       " 'until',\n",
       " 'up',\n",
       " 've',\n",
       " 'very',\n",
       " 'was',\n",
       " 'wasn',\n",
       " \"wasn't\",\n",
       " 'we',\n",
       " 'were',\n",
       " 'weren',\n",
       " \"weren't\",\n",
       " 'what',\n",
       " 'when',\n",
       " 'where',\n",
       " 'which',\n",
       " 'while',\n",
       " 'who',\n",
       " 'whom',\n",
       " 'why',\n",
       " 'will',\n",
       " 'with',\n",
       " 'won',\n",
       " \"won't\",\n",
       " 'wouldn',\n",
       " \"wouldn't\",\n",
       " 'y',\n",
       " 'you',\n",
       " \"you'd\",\n",
       " \"you'll\",\n",
       " \"you're\",\n",
       " \"you've\",\n",
       " 'your',\n",
       " 'yours',\n",
       " 'yourself',\n",
       " 'yourselves'}"
      ]
     },
     "execution_count": 28,
     "metadata": {},
     "output_type": "execute_result"
    }
   ],
   "source": [
    "stop"
   ]
  },
  {
   "cell_type": "code",
   "execution_count": 29,
   "metadata": {},
   "outputs": [],
   "source": [
    "def remove_stopwords(text):\n",
    "    final_text = []\n",
    "    for i in text.split():\n",
    "        if i.strip().lower() not in stop and i.strip().lower().isalpha():\n",
    "            final_text.append(i.strip().lower())\n",
    "    return \" \".join(final_text)\n"
   ]
  },
  {
   "cell_type": "code",
   "execution_count": 30,
   "metadata": {},
   "outputs": [],
   "source": [
    "df['review'] = df['review'].apply(remove_stopwords)"
   ]
  },
  {
   "cell_type": "code",
   "execution_count": 31,
   "metadata": {},
   "outputs": [
    {
     "data": {
      "text/html": [
       "<div>\n",
       "<style scoped>\n",
       "    .dataframe tbody tr th:only-of-type {\n",
       "        vertical-align: middle;\n",
       "    }\n",
       "\n",
       "    .dataframe tbody tr th {\n",
       "        vertical-align: top;\n",
       "    }\n",
       "\n",
       "    .dataframe thead th {\n",
       "        text-align: right;\n",
       "    }\n",
       "</style>\n",
       "<table border=\"1\" class=\"dataframe\">\n",
       "  <thead>\n",
       "    <tr style=\"text-align: right;\">\n",
       "      <th></th>\n",
       "      <th>review</th>\n",
       "      <th>sentiment</th>\n",
       "    </tr>\n",
       "  </thead>\n",
       "  <tbody>\n",
       "    <tr>\n",
       "      <th>0</th>\n",
       "      <td>one reviewers mentioned watching oz episode ex...</td>\n",
       "      <td>positive</td>\n",
       "    </tr>\n",
       "    <tr>\n",
       "      <th>1</th>\n",
       "      <td>wonderful little filming technique fashion giv...</td>\n",
       "      <td>positive</td>\n",
       "    </tr>\n",
       "    <tr>\n",
       "      <th>2</th>\n",
       "      <td>thought wonderful way spend time hot summer si...</td>\n",
       "      <td>positive</td>\n",
       "    </tr>\n",
       "    <tr>\n",
       "      <th>3</th>\n",
       "      <td>basically family little boy thinks zombie clos...</td>\n",
       "      <td>negative</td>\n",
       "    </tr>\n",
       "    <tr>\n",
       "      <th>4</th>\n",
       "      <td>petter time visually stunning film mattei offe...</td>\n",
       "      <td>positive</td>\n",
       "    </tr>\n",
       "    <tr>\n",
       "      <th>...</th>\n",
       "      <td>...</td>\n",
       "      <td>...</td>\n",
       "    </tr>\n",
       "    <tr>\n",
       "      <th>49995</th>\n",
       "      <td>thought movie right good creative original exp...</td>\n",
       "      <td>positive</td>\n",
       "    </tr>\n",
       "    <tr>\n",
       "      <th>49996</th>\n",
       "      <td>bad bad bad idiotic annoying porn groove sound...</td>\n",
       "      <td>negative</td>\n",
       "    </tr>\n",
       "    <tr>\n",
       "      <th>49997</th>\n",
       "      <td>catholic taught parochial elementary schools t...</td>\n",
       "      <td>negative</td>\n",
       "    </tr>\n",
       "    <tr>\n",
       "      <th>49998</th>\n",
       "      <td>going disagree previous comment side maltin se...</td>\n",
       "      <td>negative</td>\n",
       "    </tr>\n",
       "    <tr>\n",
       "      <th>49999</th>\n",
       "      <td>one expects star trek movies high fans expect ...</td>\n",
       "      <td>negative</td>\n",
       "    </tr>\n",
       "  </tbody>\n",
       "</table>\n",
       "<p>50000 rows × 2 columns</p>\n",
       "</div>"
      ],
      "text/plain": [
       "                                                  review sentiment\n",
       "0      one reviewers mentioned watching oz episode ex...  positive\n",
       "1      wonderful little filming technique fashion giv...  positive\n",
       "2      thought wonderful way spend time hot summer si...  positive\n",
       "3      basically family little boy thinks zombie clos...  negative\n",
       "4      petter time visually stunning film mattei offe...  positive\n",
       "...                                                  ...       ...\n",
       "49995  thought movie right good creative original exp...  positive\n",
       "49996  bad bad bad idiotic annoying porn groove sound...  negative\n",
       "49997  catholic taught parochial elementary schools t...  negative\n",
       "49998  going disagree previous comment side maltin se...  negative\n",
       "49999  one expects star trek movies high fans expect ...  negative\n",
       "\n",
       "[50000 rows x 2 columns]"
      ]
     },
     "execution_count": 31,
     "metadata": {},
     "output_type": "execute_result"
    }
   ],
   "source": [
    "df"
   ]
  },
  {
   "cell_type": "markdown",
   "metadata": {},
   "source": [
    "## encoding the sentiment feature"
   ]
  },
  {
   "cell_type": "code",
   "execution_count": 32,
   "metadata": {},
   "outputs": [],
   "source": [
    "df.sentiment.replace(\"positive\" , 1 , inplace = True)\n",
    "df.sentiment.replace(\"negative\" , 0 , inplace = True)"
   ]
  },
  {
   "cell_type": "code",
   "execution_count": 33,
   "metadata": {},
   "outputs": [
    {
     "data": {
      "text/html": [
       "<div>\n",
       "<style scoped>\n",
       "    .dataframe tbody tr th:only-of-type {\n",
       "        vertical-align: middle;\n",
       "    }\n",
       "\n",
       "    .dataframe tbody tr th {\n",
       "        vertical-align: top;\n",
       "    }\n",
       "\n",
       "    .dataframe thead th {\n",
       "        text-align: right;\n",
       "    }\n",
       "</style>\n",
       "<table border=\"1\" class=\"dataframe\">\n",
       "  <thead>\n",
       "    <tr style=\"text-align: right;\">\n",
       "      <th></th>\n",
       "      <th>review</th>\n",
       "      <th>sentiment</th>\n",
       "    </tr>\n",
       "  </thead>\n",
       "  <tbody>\n",
       "    <tr>\n",
       "      <th>0</th>\n",
       "      <td>one reviewers mentioned watching oz episode ex...</td>\n",
       "      <td>1</td>\n",
       "    </tr>\n",
       "    <tr>\n",
       "      <th>1</th>\n",
       "      <td>wonderful little filming technique fashion giv...</td>\n",
       "      <td>1</td>\n",
       "    </tr>\n",
       "    <tr>\n",
       "      <th>2</th>\n",
       "      <td>thought wonderful way spend time hot summer si...</td>\n",
       "      <td>1</td>\n",
       "    </tr>\n",
       "    <tr>\n",
       "      <th>3</th>\n",
       "      <td>basically family little boy thinks zombie clos...</td>\n",
       "      <td>0</td>\n",
       "    </tr>\n",
       "    <tr>\n",
       "      <th>4</th>\n",
       "      <td>petter time visually stunning film mattei offe...</td>\n",
       "      <td>1</td>\n",
       "    </tr>\n",
       "    <tr>\n",
       "      <th>...</th>\n",
       "      <td>...</td>\n",
       "      <td>...</td>\n",
       "    </tr>\n",
       "    <tr>\n",
       "      <th>49995</th>\n",
       "      <td>thought movie right good creative original exp...</td>\n",
       "      <td>1</td>\n",
       "    </tr>\n",
       "    <tr>\n",
       "      <th>49996</th>\n",
       "      <td>bad bad bad idiotic annoying porn groove sound...</td>\n",
       "      <td>0</td>\n",
       "    </tr>\n",
       "    <tr>\n",
       "      <th>49997</th>\n",
       "      <td>catholic taught parochial elementary schools t...</td>\n",
       "      <td>0</td>\n",
       "    </tr>\n",
       "    <tr>\n",
       "      <th>49998</th>\n",
       "      <td>going disagree previous comment side maltin se...</td>\n",
       "      <td>0</td>\n",
       "    </tr>\n",
       "    <tr>\n",
       "      <th>49999</th>\n",
       "      <td>one expects star trek movies high fans expect ...</td>\n",
       "      <td>0</td>\n",
       "    </tr>\n",
       "  </tbody>\n",
       "</table>\n",
       "<p>50000 rows × 2 columns</p>\n",
       "</div>"
      ],
      "text/plain": [
       "                                                  review  sentiment\n",
       "0      one reviewers mentioned watching oz episode ex...          1\n",
       "1      wonderful little filming technique fashion giv...          1\n",
       "2      thought wonderful way spend time hot summer si...          1\n",
       "3      basically family little boy thinks zombie clos...          0\n",
       "4      petter time visually stunning film mattei offe...          1\n",
       "...                                                  ...        ...\n",
       "49995  thought movie right good creative original exp...          1\n",
       "49996  bad bad bad idiotic annoying porn groove sound...          0\n",
       "49997  catholic taught parochial elementary schools t...          0\n",
       "49998  going disagree previous comment side maltin se...          0\n",
       "49999  one expects star trek movies high fans expect ...          0\n",
       "\n",
       "[50000 rows x 2 columns]"
      ]
     },
     "execution_count": 33,
     "metadata": {},
     "output_type": "execute_result"
    }
   ],
   "source": [
    "df"
   ]
  },
  {
   "cell_type": "markdown",
   "metadata": {},
   "source": [
    "## saving the cleaned data."
   ]
  },
  {
   "cell_type": "code",
   "execution_count": 34,
   "metadata": {},
   "outputs": [],
   "source": [
    "df.to_csv('sentiment-analysis-dataset/IMDB_clean_data.csv',index=True)"
   ]
  },
  {
   "cell_type": "code",
   "execution_count": 35,
   "metadata": {},
   "outputs": [
    {
     "name": "stdout",
     "output_type": "stream",
     "text": [
      "(632,\n",
      " 'saturday june neptunemonday june neptunefew celebrations ethnic cultural identity succeed mightily carlos brilliant interpretation isaac '\n",
      " 'masterpiece iberia approach saura drew together unprecedented wealth talent spanish performing arts community create quintessential love '\n",
      " 'song twelve suite presented without narrative stark allowing power performance explode creative use large flats moved throughout '\n",
      " 'combined rain rear projection add glorious dramatic effects varied selections dance instrumental photographs albeniz reappear throughout '\n",
      " 'connecting passion music great saura encompasses spaniards stage beautiful elegance elderly flamenco dancers traditional costume '\n",
      " 'children joyously dancing')\n"
     ]
    }
   ],
   "source": [
    "pprint(random_values(),width=140)"
   ]
  },
  {
   "cell_type": "code",
   "execution_count": null,
   "metadata": {},
   "outputs": [],
   "source": []
  },
  {
   "cell_type": "code",
   "execution_count": null,
   "metadata": {},
   "outputs": [],
   "source": []
  },
  {
   "cell_type": "code",
   "execution_count": null,
   "metadata": {},
   "outputs": [],
   "source": []
  },
  {
   "cell_type": "code",
   "execution_count": null,
   "metadata": {},
   "outputs": [],
   "source": []
  }
 ],
 "metadata": {
  "kernelspec": {
   "display_name": "Python 3",
   "language": "python",
   "name": "python3"
  },
  "language_info": {
   "codemirror_mode": {
    "name": "ipython",
    "version": 3
   },
   "file_extension": ".py",
   "mimetype": "text/x-python",
   "name": "python",
   "nbconvert_exporter": "python",
   "pygments_lexer": "ipython3",
   "version": "3.11.3"
  },
  "orig_nbformat": 4
 },
 "nbformat": 4,
 "nbformat_minor": 2
}
